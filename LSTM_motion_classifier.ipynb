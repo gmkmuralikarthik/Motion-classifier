{
  "nbformat": 4,
  "nbformat_minor": 0,
  "metadata": {
    "colab": {
      "name": "LSTM_motion_classifier.ipynb",
      "provenance": [],
      "collapsed_sections": [],
      "mount_file_id": "17QW8G3w7w36p3G-jwwrawkO98YFD_1ui",
      "authorship_tag": "ABX9TyPZrdaig6+yiidEVu+//NPP",
      "include_colab_link": true
    },
    "kernelspec": {
      "name": "python3",
      "display_name": "Python 3"
    }
  },
  "cells": [
    {
      "cell_type": "markdown",
      "metadata": {
        "id": "view-in-github",
        "colab_type": "text"
      },
      "source": [
        "<a href=\"https://colab.research.google.com/github/gmkmuralikarthik/Motion-classifier/blob/main/LSTM_motion_classifier.ipynb\" target=\"_parent\"><img src=\"https://colab.research.google.com/assets/colab-badge.svg\" alt=\"Open In Colab\"/></a>"
      ]
    },
    {
      "cell_type": "code",
      "metadata": {
        "id": "pScC8YvkOark"
      },
      "source": [
        "# !pip install tf-nightly\n",
        "import numpy as np\n",
        "import pandas as pd\n",
        "from numpy import mean\n",
        "from numpy import std\n",
        "from numpy import dstack\n",
        "from keras.models import Sequential\n",
        "from keras.layers import Dense\n",
        "from keras.layers import Flatten\n",
        "from keras.layers import Dropout\n",
        "from keras.layers import LSTM\n",
        "from keras.layers import LSTM, TimeDistributed, Dense\n",
        "from keras.utils import to_categorical, plot_model\n",
        "from matplotlib import pyplot\n",
        "from keras.utils.np_utils import to_categorical\n",
        "\n"
      ],
      "execution_count": 1,
      "outputs": []
    },
    {
      "cell_type": "code",
      "metadata": {
        "id": "Me2S5rHWPK7k"
      },
      "source": [
        "path = '/content/drive/My Drive/Colab Notebooks/motion_classifier'\n",
        "dfwalk = pd.read_csv(path + '/walking.csv', header=None)\n",
        "dfrun = pd.read_csv(path + '/running.csv', header=None)\n",
        "dfidle = pd.read_csv(path + '/idle.csv', header=None)\n",
        "columns = ['x','y','z','class']\n",
        "dfwalk.columns= columns\n",
        "dfrun.columns= columns\n",
        "dfidle.columns= columns"
      ],
      "execution_count": 2,
      "outputs": []
    },
    {
      "cell_type": "code",
      "metadata": {
        "id": "LqqTodWmPQEn"
      },
      "source": [
        "dfwalk.loc[dfwalk['class']=='walking','class'] = 1\n",
        "dfrun.loc[dfrun['class']=='running','class'] = 2\n",
        "dfidle.loc[dfidle['class']=='idle', 'class'] = 0"
      ],
      "execution_count": 3,
      "outputs": []
    },
    {
      "cell_type": "code",
      "metadata": {
        "colab": {
          "base_uri": "https://localhost:8080/"
        },
        "id": "xplTtnjEyxmE",
        "outputId": "0113717a-403f-472d-b089-5eab71beaa13"
      },
      "source": [
        "dfwalk.isnull().any()"
      ],
      "execution_count": 4,
      "outputs": [
        {
          "output_type": "execute_result",
          "data": {
            "text/plain": [
              "x        False\n",
              "y        False\n",
              "z        False\n",
              "class    False\n",
              "dtype: bool"
            ]
          },
          "metadata": {
            "tags": []
          },
          "execution_count": 4
        }
      ]
    },
    {
      "cell_type": "code",
      "metadata": {
        "colab": {
          "base_uri": "https://localhost:8080/"
        },
        "id": "hbhR-1dey1Bf",
        "outputId": "340f656a-cc4f-44f1-a801-bebf4754557a"
      },
      "source": [
        "dfrun.isnull().any() "
      ],
      "execution_count": 5,
      "outputs": [
        {
          "output_type": "execute_result",
          "data": {
            "text/plain": [
              "x        False\n",
              "y        False\n",
              "z        False\n",
              "class    False\n",
              "dtype: bool"
            ]
          },
          "metadata": {
            "tags": []
          },
          "execution_count": 5
        }
      ]
    },
    {
      "cell_type": "code",
      "metadata": {
        "colab": {
          "base_uri": "https://localhost:8080/"
        },
        "id": "Z7qoVHKTy3PG",
        "outputId": "97d2a7eb-076a-43fc-842d-0bf998025752"
      },
      "source": [
        "dfidle.isnull().any() "
      ],
      "execution_count": 6,
      "outputs": [
        {
          "output_type": "execute_result",
          "data": {
            "text/plain": [
              "x        False\n",
              "y        False\n",
              "z        False\n",
              "class    False\n",
              "dtype: bool"
            ]
          },
          "metadata": {
            "tags": []
          },
          "execution_count": 6
        }
      ]
    },
    {
      "cell_type": "code",
      "metadata": {
        "id": "JaUrtpl8PSP6"
      },
      "source": [
        "train = dfrun.loc[:dfrun.shape[0]*.7]\n",
        "test = dfrun.loc[dfrun.shape[0]*.7:dfrun.shape[0]]\n",
        "train = train.append(dfwalk.loc[:dfwalk.shape[0]*.7])\n",
        "test = test.append(dfwalk.loc[dfwalk.shape[0]*.7:dfwalk.shape[0]])\n",
        "train = train.append(dfidle.loc[:dfidle.shape[0]*.7])\n",
        "test = test.append(dfidle.loc[dfidle.shape[0]*.7:dfidle.shape[0]])\n",
        "# X = dfidle.loc[:]\n",
        "# X = X.append(dfwalk)\n",
        "# X = X.append(dfrun)"
      ],
      "execution_count": 7,
      "outputs": []
    },
    {
      "cell_type": "code",
      "metadata": {
        "id": "KZYflhZePVYh"
      },
      "source": [
        "testY = test['class']\n",
        "trainY = train['class']\n",
        "trainX = train[['x','y','z']]\n",
        "testX = test[['x','y','z']]"
      ],
      "execution_count": 8,
      "outputs": []
    },
    {
      "cell_type": "code",
      "metadata": {
        "id": "TZXpJj84XFE4"
      },
      "source": [
        "# X = X.to_numpy()\n",
        "# Y = Y.to_numpy()\n",
        "testY = testY.to_numpy(testY)\n",
        "trainY = trainY.to_numpy(trainY)\n",
        "trainX = trainX.to_numpy()\n",
        "testX = testX.to_numpy()\n",
        "testY = np.array(testY,dtype='int64')\n",
        "trainY = np.array(trainY,dtype='int64')\n",
        "# Y = np.array(Y,dtype='int64')"
      ],
      "execution_count": 9,
      "outputs": []
    },
    {
      "cell_type": "code",
      "metadata": {
        "id": "e8dcMUl_XIKG"
      },
      "source": [
        "# X = X.reshape((int(X.shape[0]/12),12,3))\n",
        "def process(X,Y):\n",
        "  test = []\n",
        "  train = []\n",
        "  t = 20\n",
        "  for i in range(t,X.shape[0], t):\n",
        "    test.append(X[i-t:i, :])\n",
        "    train.append(np.bincount(Y[i-t:i]).argmax())\n",
        "    # print(max(np.bincount(Y[i-12:i])))\n",
        "  X = np.array(test)\n",
        "  Y = np.array(train,dtype='float64')\n",
        "  return X, Y\n",
        "# X.shape\n"
      ],
      "execution_count": 10,
      "outputs": []
    },
    {
      "cell_type": "code",
      "metadata": {
        "id": "k0e9uQsHmqUb"
      },
      "source": [
        "testx, testy = process(testX, testY)\n",
        "trainx, trainy = process(trainX, trainY)\n",
        "del trainX\n",
        "del trainY\n",
        "del testX\n",
        "del testY"
      ],
      "execution_count": 11,
      "outputs": []
    },
    {
      "cell_type": "code",
      "metadata": {
        "id": "cPMwfN8TfAFJ"
      },
      "source": [
        "testy = to_categorical(testy)\n",
        "trainy = to_categorical(trainy)\n",
        "# trainx = X[:int(X.shape[0]*.7),:,:]\n",
        "# testx = X[int(X.shape[0]*.7):,:,:]\n",
        "# Y = to_categorical(Y)\n",
        "# trainy = Y[:int(Y.shape[0]*.7)]\n",
        "# testy = Y[int(Y.shape[0]*.7):]"
      ],
      "execution_count": 12,
      "outputs": []
    },
    {
      "cell_type": "code",
      "metadata": {
        "colab": {
          "base_uri": "https://localhost:8080/"
        },
        "id": "38PvWt-fj8M1",
        "outputId": "b5998518-0f7b-4a67-88b5-be1334224ff0"
      },
      "source": [
        "trainx.shape"
      ],
      "execution_count": 13,
      "outputs": [
        {
          "output_type": "execute_result",
          "data": {
            "text/plain": [
              "(1172, 20, 3)"
            ]
          },
          "metadata": {
            "tags": []
          },
          "execution_count": 13
        }
      ]
    },
    {
      "cell_type": "code",
      "metadata": {
        "colab": {
          "base_uri": "https://localhost:8080/"
        },
        "id": "8NcUW3BKkCBv",
        "outputId": "ef2eeb52-f0cb-41a5-f794-6a848e6ba4c3"
      },
      "source": [
        "trainy.shape"
      ],
      "execution_count": 14,
      "outputs": [
        {
          "output_type": "execute_result",
          "data": {
            "text/plain": [
              "(1172, 3)"
            ]
          },
          "metadata": {
            "tags": []
          },
          "execution_count": 14
        }
      ]
    },
    {
      "cell_type": "code",
      "metadata": {
        "colab": {
          "base_uri": "https://localhost:8080/"
        },
        "id": "9FqplOppkCNV",
        "outputId": "a190b1bb-3afd-4b51-91ab-369d9ca779c4"
      },
      "source": [
        "testx.shape"
      ],
      "execution_count": 15,
      "outputs": [
        {
          "output_type": "execute_result",
          "data": {
            "text/plain": [
              "(502, 20, 3)"
            ]
          },
          "metadata": {
            "tags": []
          },
          "execution_count": 15
        }
      ]
    },
    {
      "cell_type": "code",
      "metadata": {
        "colab": {
          "base_uri": "https://localhost:8080/"
        },
        "id": "VDnftyTMkCaD",
        "outputId": "eb3fcac8-b769-4046-952d-7122731c37e9"
      },
      "source": [
        "testy.shape"
      ],
      "execution_count": 16,
      "outputs": [
        {
          "output_type": "execute_result",
          "data": {
            "text/plain": [
              "(502, 3)"
            ]
          },
          "metadata": {
            "tags": []
          },
          "execution_count": 16
        }
      ]
    },
    {
      "cell_type": "code",
      "metadata": {
        "id": "auN5biMuPaD1"
      },
      "source": [
        "def summarize_results(scores):\n",
        "\tprint(scores)\n",
        "\tm, s = mean(scores), std(scores)\n",
        "\tprint('Accuracy: %.3f%% (+/-%.3f)' % (m, s))"
      ],
      "execution_count": 17,
      "outputs": []
    },
    {
      "cell_type": "code",
      "metadata": {
        "id": "vXrIYgb5WcYQ"
      },
      "source": [
        "def evaluate_model(trainx, trainy, testx, testy):\n",
        "\tverbose, epochs, batch_size = 0, 5, 16\n",
        "\tn_timesteps, n_features, n_outputs = trainx.shape[1], trainx.shape[2], trainy.shape[1]\n",
        "\tmodel = Sequential()\n",
        "\tmodel.add(LSTM(16, input_shape=(n_timesteps,n_features)))\n",
        "\tmodel.add(Dropout(0.2))\n",
        "\t# model.add(Dense(16, activation='relu'))\n",
        "\tmodel.add(Dense(n_outputs, activation='softmax'))\n",
        "\tmodel.compile(loss='categorical_crossentropy', optimizer='adam', metrics=['accuracy'])\n",
        "\tmodel.fit(trainx, trainy, epochs=epochs, batch_size=batch_size, verbose=verbose)\n",
        "\tloss, accuracy = model.evaluate(testx, testy, batch_size=batch_size, verbose=1)\n",
        "\treturn loss, accuracy, model"
      ],
      "execution_count": 18,
      "outputs": []
    },
    {
      "cell_type": "code",
      "metadata": {
        "id": "SzHVT51_PduO"
      },
      "source": [
        "def run_experiment(repeats=10):\n",
        "\t# load data\n",
        "\t# trainX, trainy, testX, testy = load_dataset()\n",
        "\t# repeat experiment\n",
        "\tscores = list()\n",
        "\tfor r in range(repeats):\n",
        "\t\tloss, score, model = evaluate_model(trainx, trainy, testx, testy)\n",
        "\t\tscore = score * 100.0\n",
        "\t\tprint('>#%d: %.3f' % (r+1, score))\n",
        "\t\tprint('>#%d: %.3f' % (r+1, loss))\n",
        "\t\tscores.append(score)\n",
        "\t\n",
        "\tsummarize_results(scores)\n",
        "\treturn model"
      ],
      "execution_count": 19,
      "outputs": []
    },
    {
      "cell_type": "code",
      "metadata": {
        "colab": {
          "base_uri": "https://localhost:8080/"
        },
        "id": "59I-HO9tEH8O",
        "outputId": "67426c1b-451e-491c-ac3d-5f46aba35d8a"
      },
      "source": [
        "model = run_experiment()"
      ],
      "execution_count": 20,
      "outputs": [
        {
          "output_type": "stream",
          "text": [
            "32/32 [==============================] - 1s 2ms/step - loss: 0.1708 - accuracy: 0.9582\n",
            ">#1: 95.817\n",
            ">#1: 0.171\n",
            "32/32 [==============================] - 1s 2ms/step - loss: 0.1517 - accuracy: 0.9602\n",
            ">#2: 96.016\n",
            ">#2: 0.152\n",
            "32/32 [==============================] - 0s 2ms/step - loss: 0.2177 - accuracy: 0.9422\n",
            ">#3: 94.223\n",
            ">#3: 0.218\n",
            "32/32 [==============================] - 0s 2ms/step - loss: 0.1912 - accuracy: 0.9442\n",
            ">#4: 94.422\n",
            ">#4: 0.191\n",
            "32/32 [==============================] - 0s 2ms/step - loss: 0.2108 - accuracy: 0.9382\n",
            ">#5: 93.825\n",
            ">#5: 0.211\n",
            "32/32 [==============================] - 0s 2ms/step - loss: 0.1590 - accuracy: 0.9582\n",
            ">#6: 95.817\n",
            ">#6: 0.159\n",
            "32/32 [==============================] - 0s 2ms/step - loss: 0.2021 - accuracy: 0.9442\n",
            ">#7: 94.422\n",
            ">#7: 0.202\n",
            "32/32 [==============================] - 0s 2ms/step - loss: 0.1861 - accuracy: 0.9442\n",
            ">#8: 94.422\n",
            ">#8: 0.186\n",
            "32/32 [==============================] - 1s 2ms/step - loss: 0.2084 - accuracy: 0.9382\n",
            ">#9: 93.825\n",
            ">#9: 0.208\n",
            "32/32 [==============================] - 0s 2ms/step - loss: 0.2105 - accuracy: 0.9542\n",
            ">#10: 95.418\n",
            ">#10: 0.211\n",
            "[95.8167314529419, 96.01593613624573, 94.22310590744019, 94.42231059074402, 93.824702501297, 95.8167314529419, 94.42231059074402, 94.42231059074402, 93.824702501297, 95.4183280467987]\n",
            "Accuracy: 94.821% (+/-0.812)\n"
          ],
          "name": "stdout"
        }
      ]
    },
    {
      "cell_type": "code",
      "metadata": {
        "colab": {
          "base_uri": "https://localhost:8080/"
        },
        "id": "XXb_5VD3EJJh",
        "outputId": "65de2143-4ef5-4eb2-8ea8-870afe7804fe"
      },
      "source": [
        "model.summary() "
      ],
      "execution_count": 21,
      "outputs": [
        {
          "output_type": "stream",
          "text": [
            "Model: \"sequential_9\"\n",
            "_________________________________________________________________\n",
            "Layer (type)                 Output Shape              Param #   \n",
            "=================================================================\n",
            "lstm_9 (LSTM)                (None, 16)                1280      \n",
            "_________________________________________________________________\n",
            "dropout_9 (Dropout)          (None, 16)                0         \n",
            "_________________________________________________________________\n",
            "dense_9 (Dense)              (None, 3)                 51        \n",
            "=================================================================\n",
            "Total params: 1,331\n",
            "Trainable params: 1,331\n",
            "Non-trainable params: 0\n",
            "_________________________________________________________________\n"
          ],
          "name": "stdout"
        }
      ]
    },
    {
      "cell_type": "code",
      "metadata": {
        "id": "dt6LjSRRtKEo"
      },
      "source": [
        "model.save('/content/drive/My Drive/Colab Notebooks/LSTM/motion_classifier.h5', include_optimizer=False)"
      ],
      "execution_count": 22,
      "outputs": []
    },
    {
      "cell_type": "code",
      "metadata": {
        "colab": {
          "base_uri": "https://localhost:8080/"
        },
        "id": "N787Y84avj_4",
        "outputId": "3ebda139-afa7-44fa-83af-c3b6febd5a0f"
      },
      "source": [
        "import tensorflow as tf\n",
        "\n",
        "# Convert the model\n",
        "converter = tf.lite.TFLiteConverter.from_keras_model(model)\n",
        "tflite_model = converter.convert()\n",
        "\n",
        "# Save the model.\n",
        "with open('/content/drive/My Drive/Colab Notebooks/LSTM/MotionClass.tflite', 'wb') as f:\n",
        "  f.write(tflite_model)"
      ],
      "execution_count": 26,
      "outputs": [
        {
          "output_type": "stream",
          "text": [
            "WARNING:absl:Found untraced functions such as lstm_cell_9_layer_call_fn, lstm_cell_9_layer_call_and_return_conditional_losses, lstm_cell_9_layer_call_fn, lstm_cell_9_layer_call_and_return_conditional_losses, lstm_cell_9_layer_call_and_return_conditional_losses while saving (showing 5 of 5). These functions will not be directly callable after loading.\n"
          ],
          "name": "stderr"
        },
        {
          "output_type": "stream",
          "text": [
            "INFO:tensorflow:Assets written to: /tmp/tmps9zn43cg/assets\n"
          ],
          "name": "stdout"
        },
        {
          "output_type": "stream",
          "text": [
            "INFO:tensorflow:Assets written to: /tmp/tmps9zn43cg/assets\n"
          ],
          "name": "stderr"
        }
      ]
    },
    {
      "cell_type": "code",
      "metadata": {
        "colab": {
          "base_uri": "https://localhost:8080/"
        },
        "id": "8D2V4OONhXth",
        "outputId": "3910cc30-002a-414a-9344-71765bef2ecb"
      },
      "source": [
        "# Load TFLite model and allocate tensors.\n",
        "interpreter = tf.lite.Interpreter(model_path='/content/drive/My Drive/Colab Notebooks/LSTM/MotionClass.tflite')\n",
        "interpreter.allocate_tensors()\n",
        "\n",
        "# Get input and output tensors.\n",
        "input_details = interpreter.get_input_details()\n",
        "output_details = interpreter.get_output_details()\n",
        "\n",
        "# Test model on random input data.\n",
        "input_shape = input_details[0]['shape']\n",
        "input_data = np.array(np.random.random_sample(input_shape), dtype=np.float32)\n",
        "interpreter.set_tensor(input_details[0]['index'], input_data)\n",
        "\n",
        "interpreter.invoke()\n",
        "\n",
        "# The function `get_tensor()` returns a copy of the tensor data.\n",
        "# Use `tensor()` in order to get a pointer to the tensor.\n",
        "output_data = interpreter.get_tensor(output_details[0]['index'])\n",
        "print(output_data)"
      ],
      "execution_count": 27,
      "outputs": [
        {
          "output_type": "stream",
          "text": [
            "[[0.40458262 0.19491105 0.40050632]]\n"
          ],
          "name": "stdout"
        }
      ]
    },
    {
      "cell_type": "markdown",
      "metadata": {
        "id": "y_Yr4ncVxrFC"
      },
      "source": [
        "THE END"
      ]
    },
    {
      "cell_type": "code",
      "metadata": {
        "id": "K8isi8TmdQNW"
      },
      "source": [
        ""
      ],
      "execution_count": null,
      "outputs": []
    }
  ]
}