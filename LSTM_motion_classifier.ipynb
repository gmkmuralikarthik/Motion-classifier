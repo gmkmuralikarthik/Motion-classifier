{
  "nbformat": 4,
  "nbformat_minor": 0,
  "metadata": {
    "colab": {
      "name": "LSTM_motion_classifier.ipynb",
      "provenance": [],
      "collapsed_sections": [],
      "mount_file_id": "17QW8G3w7w36p3G-jwwrawkO98YFD_1ui",
      "authorship_tag": "ABX9TyMgc2UXrUFF27aeEIhdl5i6",
      "include_colab_link": true
    },
    "kernelspec": {
      "name": "python3",
      "display_name": "Python 3"
    }
  },
  "cells": [
    {
      "cell_type": "markdown",
      "metadata": {
        "id": "view-in-github",
        "colab_type": "text"
      },
      "source": [
        "<a href=\"https://colab.research.google.com/github/gmkmuralikarthik/Motion-classifier/blob/main/LSTM_motion_classifier.ipynb\" target=\"_parent\"><img src=\"https://colab.research.google.com/assets/colab-badge.svg\" alt=\"Open In Colab\"/></a>"
      ]
    },
    {
      "cell_type": "code",
      "metadata": {
        "id": "pScC8YvkOark"
      },
      "source": [
        "import numpy as np\n",
        "import pandas as pd\n",
        "from numpy import mean\n",
        "from numpy import std\n",
        "from numpy import dstack\n",
        "from keras.models import Sequential\n",
        "from keras.layers import Dense\n",
        "from keras.layers import Flatten\n",
        "from keras.layers import Dropout\n",
        "from keras.layers import LSTM\n",
        "from keras.layers import LSTM, TimeDistributed, Dense\n",
        "from keras.utils import to_categorical, plot_model\n",
        "from matplotlib import pyplot\n",
        "from keras.utils.np_utils import to_categorical\n",
        "\n"
      ],
      "execution_count": 1,
      "outputs": []
    },
    {
      "cell_type": "code",
      "metadata": {
        "id": "Me2S5rHWPK7k"
      },
      "source": [
        "path = '/content/drive/My Drive/Colab Notebooks/motion_classifier'\n",
        "dfwalk = pd.read_csv(path + '/walking.csv', header=None)\n",
        "dfrun = pd.read_csv(path + '/running.csv', header=None)\n",
        "dfidle = pd.read_csv(path + '/idle.csv', header=None)\n",
        "columns = ['x','y','z','class']\n",
        "dfwalk.columns= columns\n",
        "dfrun.columns= columns\n",
        "dfidle.columns= columns"
      ],
      "execution_count": 2,
      "outputs": []
    },
    {
      "cell_type": "code",
      "metadata": {
        "id": "LqqTodWmPQEn"
      },
      "source": [
        "dfwalk.loc[dfwalk['class']=='walking','class'] = 1\n",
        "dfrun.loc[dfrun['class']=='running','class'] = 2\n",
        "dfidle.loc[dfidle['class']=='idle', 'class'] = 0"
      ],
      "execution_count": 3,
      "outputs": []
    },
    {
      "cell_type": "code",
      "metadata": {
        "colab": {
          "base_uri": "https://localhost:8080/"
        },
        "id": "xplTtnjEyxmE",
        "outputId": "3ca73133-4438-47f1-bfce-678a7a6e273c"
      },
      "source": [
        "dfwalk.isnull().any()"
      ],
      "execution_count": 4,
      "outputs": [
        {
          "output_type": "execute_result",
          "data": {
            "text/plain": [
              "x        False\n",
              "y        False\n",
              "z        False\n",
              "class    False\n",
              "dtype: bool"
            ]
          },
          "metadata": {
            "tags": []
          },
          "execution_count": 4
        }
      ]
    },
    {
      "cell_type": "code",
      "metadata": {
        "colab": {
          "base_uri": "https://localhost:8080/"
        },
        "id": "hbhR-1dey1Bf",
        "outputId": "403326df-e07f-4bf6-947a-0e6e73482d56"
      },
      "source": [
        "dfrun.isnull().any() "
      ],
      "execution_count": 5,
      "outputs": [
        {
          "output_type": "execute_result",
          "data": {
            "text/plain": [
              "x        False\n",
              "y        False\n",
              "z        False\n",
              "class    False\n",
              "dtype: bool"
            ]
          },
          "metadata": {
            "tags": []
          },
          "execution_count": 5
        }
      ]
    },
    {
      "cell_type": "code",
      "metadata": {
        "id": "zExwk_ymzzZS"
      },
      "source": [
        "nan_rows = dfwalk[dfwalk['x'].isnull()]"
      ],
      "execution_count": 6,
      "outputs": []
    },
    {
      "cell_type": "code",
      "metadata": {
        "colab": {
          "base_uri": "https://localhost:8080/",
          "height": 47
        },
        "id": "2N5IminLz6me",
        "outputId": "d32cf0fe-dc05-44fb-afd0-f9ec6be796a8"
      },
      "source": [
        "nan_rows"
      ],
      "execution_count": 7,
      "outputs": [
        {
          "output_type": "execute_result",
          "data": {
            "text/html": [
              "<div>\n",
              "<style scoped>\n",
              "    .dataframe tbody tr th:only-of-type {\n",
              "        vertical-align: middle;\n",
              "    }\n",
              "\n",
              "    .dataframe tbody tr th {\n",
              "        vertical-align: top;\n",
              "    }\n",
              "\n",
              "    .dataframe thead th {\n",
              "        text-align: right;\n",
              "    }\n",
              "</style>\n",
              "<table border=\"1\" class=\"dataframe\">\n",
              "  <thead>\n",
              "    <tr style=\"text-align: right;\">\n",
              "      <th></th>\n",
              "      <th>x</th>\n",
              "      <th>y</th>\n",
              "      <th>z</th>\n",
              "      <th>class</th>\n",
              "    </tr>\n",
              "  </thead>\n",
              "  <tbody>\n",
              "  </tbody>\n",
              "</table>\n",
              "</div>"
            ],
            "text/plain": [
              "Empty DataFrame\n",
              "Columns: [x, y, z, class]\n",
              "Index: []"
            ]
          },
          "metadata": {
            "tags": []
          },
          "execution_count": 7
        }
      ]
    },
    {
      "cell_type": "code",
      "metadata": {
        "colab": {
          "base_uri": "https://localhost:8080/"
        },
        "id": "Z7qoVHKTy3PG",
        "outputId": "aa703732-8996-408d-9e38-7dc7c404bd69"
      },
      "source": [
        "dfidle.isnull().any() "
      ],
      "execution_count": 8,
      "outputs": [
        {
          "output_type": "execute_result",
          "data": {
            "text/plain": [
              "x        False\n",
              "y        False\n",
              "z        False\n",
              "class    False\n",
              "dtype: bool"
            ]
          },
          "metadata": {
            "tags": []
          },
          "execution_count": 8
        }
      ]
    },
    {
      "cell_type": "code",
      "metadata": {
        "id": "JaUrtpl8PSP6"
      },
      "source": [
        "train = dfrun.loc[:dfrun.shape[0]*.7]\n",
        "test = dfrun.loc[dfrun.shape[0]*.7:dfrun.shape[0]]\n",
        "train = train.append(dfwalk.loc[:dfwalk.shape[0]*.7])\n",
        "test = test.append(dfwalk.loc[dfwalk.shape[0]*.7:dfwalk.shape[0]])\n",
        "train = train.append(dfidle.loc[:dfidle.shape[0]*.7])\n",
        "test = test.append(dfidle.loc[dfidle.shape[0]*.7:dfidle.shape[0]])\n",
        "# X = dfidle.loc[:]\n",
        "# X = X.append(dfwalk)\n",
        "# X = X.append(dfrun)"
      ],
      "execution_count": 9,
      "outputs": []
    },
    {
      "cell_type": "code",
      "metadata": {
        "colab": {
          "base_uri": "https://localhost:8080/"
        },
        "id": "cWUf-JG8ySRq",
        "outputId": "72b43b8c-bb35-4913-9cb5-12a296d2bc0d"
      },
      "source": [
        "train.isnull().any() "
      ],
      "execution_count": 10,
      "outputs": [
        {
          "output_type": "execute_result",
          "data": {
            "text/plain": [
              "x        False\n",
              "y        False\n",
              "z        False\n",
              "class    False\n",
              "dtype: bool"
            ]
          },
          "metadata": {
            "tags": []
          },
          "execution_count": 10
        }
      ]
    },
    {
      "cell_type": "code",
      "metadata": {
        "colab": {
          "base_uri": "https://localhost:8080/"
        },
        "id": "SDl9htiVyTuv",
        "outputId": "b9951378-64ea-4c99-a7fc-ab4f179c91d1"
      },
      "source": [
        "test.isnull().any() "
      ],
      "execution_count": 11,
      "outputs": [
        {
          "output_type": "execute_result",
          "data": {
            "text/plain": [
              "x        False\n",
              "y        False\n",
              "z        False\n",
              "class    False\n",
              "dtype: bool"
            ]
          },
          "metadata": {
            "tags": []
          },
          "execution_count": 11
        }
      ]
    },
    {
      "cell_type": "code",
      "metadata": {
        "id": "KZYflhZePVYh"
      },
      "source": [
        "testY = test['class']\n",
        "trainY = train['class']\n",
        "trainX = train[['x','y','z']]\n",
        "testX = test[['x','y','z']]"
      ],
      "execution_count": 12,
      "outputs": []
    },
    {
      "cell_type": "code",
      "metadata": {
        "colab": {
          "base_uri": "https://localhost:8080/"
        },
        "id": "J_3D7KAQrCDf",
        "outputId": "4ff598a3-c751-4462-88a4-413699b93191"
      },
      "source": [
        "testX.shape"
      ],
      "execution_count": 13,
      "outputs": [
        {
          "output_type": "execute_result",
          "data": {
            "text/plain": [
              "(10046, 3)"
            ]
          },
          "metadata": {
            "tags": []
          },
          "execution_count": 13
        }
      ]
    },
    {
      "cell_type": "code",
      "metadata": {
        "colab": {
          "base_uri": "https://localhost:8080/",
          "height": 343
        },
        "id": "EuPpa_UfrETh",
        "outputId": "16fae1dc-f798-4500-bcc0-c7d1e6d043de"
      },
      "source": [
        "trainX[:10]"
      ],
      "execution_count": 14,
      "outputs": [
        {
          "output_type": "execute_result",
          "data": {
            "text/html": [
              "<div>\n",
              "<style scoped>\n",
              "    .dataframe tbody tr th:only-of-type {\n",
              "        vertical-align: middle;\n",
              "    }\n",
              "\n",
              "    .dataframe tbody tr th {\n",
              "        vertical-align: top;\n",
              "    }\n",
              "\n",
              "    .dataframe thead th {\n",
              "        text-align: right;\n",
              "    }\n",
              "</style>\n",
              "<table border=\"1\" class=\"dataframe\">\n",
              "  <thead>\n",
              "    <tr style=\"text-align: right;\">\n",
              "      <th></th>\n",
              "      <th>x</th>\n",
              "      <th>y</th>\n",
              "      <th>z</th>\n",
              "    </tr>\n",
              "  </thead>\n",
              "  <tbody>\n",
              "    <tr>\n",
              "      <th>0</th>\n",
              "      <td>0.677</td>\n",
              "      <td>6.344</td>\n",
              "      <td>8.114</td>\n",
              "    </tr>\n",
              "    <tr>\n",
              "      <th>1</th>\n",
              "      <td>0.950</td>\n",
              "      <td>6.248</td>\n",
              "      <td>8.030</td>\n",
              "    </tr>\n",
              "    <tr>\n",
              "      <th>2</th>\n",
              "      <td>1.432</td>\n",
              "      <td>6.123</td>\n",
              "      <td>8.403</td>\n",
              "    </tr>\n",
              "    <tr>\n",
              "      <th>3</th>\n",
              "      <td>1.475</td>\n",
              "      <td>6.047</td>\n",
              "      <td>8.250</td>\n",
              "    </tr>\n",
              "    <tr>\n",
              "      <th>4</th>\n",
              "      <td>1.101</td>\n",
              "      <td>6.174</td>\n",
              "      <td>7.826</td>\n",
              "    </tr>\n",
              "    <tr>\n",
              "      <th>5</th>\n",
              "      <td>0.838</td>\n",
              "      <td>6.100</td>\n",
              "      <td>7.498</td>\n",
              "    </tr>\n",
              "    <tr>\n",
              "      <th>6</th>\n",
              "      <td>0.739</td>\n",
              "      <td>6.068</td>\n",
              "      <td>7.342</td>\n",
              "    </tr>\n",
              "    <tr>\n",
              "      <th>7</th>\n",
              "      <td>0.905</td>\n",
              "      <td>6.020</td>\n",
              "      <td>7.519</td>\n",
              "    </tr>\n",
              "    <tr>\n",
              "      <th>8</th>\n",
              "      <td>1.192</td>\n",
              "      <td>6.018</td>\n",
              "      <td>7.366</td>\n",
              "    </tr>\n",
              "    <tr>\n",
              "      <th>9</th>\n",
              "      <td>1.247</td>\n",
              "      <td>6.071</td>\n",
              "      <td>7.436</td>\n",
              "    </tr>\n",
              "  </tbody>\n",
              "</table>\n",
              "</div>"
            ],
            "text/plain": [
              "       x      y      z\n",
              "0  0.677  6.344  8.114\n",
              "1  0.950  6.248  8.030\n",
              "2  1.432  6.123  8.403\n",
              "3  1.475  6.047  8.250\n",
              "4  1.101  6.174  7.826\n",
              "5  0.838  6.100  7.498\n",
              "6  0.739  6.068  7.342\n",
              "7  0.905  6.020  7.519\n",
              "8  1.192  6.018  7.366\n",
              "9  1.247  6.071  7.436"
            ]
          },
          "metadata": {
            "tags": []
          },
          "execution_count": 14
        }
      ]
    },
    {
      "cell_type": "code",
      "metadata": {
        "id": "TZXpJj84XFE4"
      },
      "source": [
        "# X = X.to_numpy()\n",
        "# Y = Y.to_numpy()\n",
        "testY = testY.to_numpy(testY)\n",
        "trainY = trainY.to_numpy(trainY)\n",
        "trainX = trainX.to_numpy()\n",
        "testX = testX.to_numpy()\n",
        "testY = np.array(testY,dtype='int64')\n",
        "trainY = np.array(trainY,dtype='int64')\n",
        "# Y = np.array(Y,dtype='int64')"
      ],
      "execution_count": 15,
      "outputs": []
    },
    {
      "cell_type": "code",
      "metadata": {
        "colab": {
          "base_uri": "https://localhost:8080/"
        },
        "id": "-pvQgYKiqxmG",
        "outputId": "4be5cee9-f8e7-4adb-a91f-5172cc2b109a"
      },
      "source": [
        "testX.shape"
      ],
      "execution_count": 16,
      "outputs": [
        {
          "output_type": "execute_result",
          "data": {
            "text/plain": [
              "(10046, 3)"
            ]
          },
          "metadata": {
            "tags": []
          },
          "execution_count": 16
        }
      ]
    },
    {
      "cell_type": "code",
      "metadata": {
        "colab": {
          "base_uri": "https://localhost:8080/"
        },
        "id": "HWw742XVqhMp",
        "outputId": "e85cd6c7-a686-4171-ccdf-e771d8328574"
      },
      "source": [
        "trainX[:10]"
      ],
      "execution_count": 17,
      "outputs": [
        {
          "output_type": "execute_result",
          "data": {
            "text/plain": [
              "array([[0.677, 6.344, 8.114],\n",
              "       [0.95 , 6.248, 8.03 ],\n",
              "       [1.432, 6.123, 8.403],\n",
              "       [1.475, 6.047, 8.25 ],\n",
              "       [1.101, 6.174, 7.826],\n",
              "       [0.838, 6.1  , 7.498],\n",
              "       [0.739, 6.068, 7.342],\n",
              "       [0.905, 6.02 , 7.519],\n",
              "       [1.192, 6.018, 7.366],\n",
              "       [1.247, 6.071, 7.436]])"
            ]
          },
          "metadata": {
            "tags": []
          },
          "execution_count": 17
        }
      ]
    },
    {
      "cell_type": "code",
      "metadata": {
        "id": "e8dcMUl_XIKG"
      },
      "source": [
        "# X = X.reshape((int(X.shape[0]/12),12,3))\n",
        "def process(X,Y):\n",
        "  test = []\n",
        "  train = []\n",
        "  t = 20\n",
        "  for i in range(t,X.shape[0], t):\n",
        "    test.append(X[i-t:i, :])\n",
        "    train.append(np.bincount(Y[i-t:i]).argmax())\n",
        "    # print(max(np.bincount(Y[i-12:i])))\n",
        "  X = np.array(test)\n",
        "  Y = np.array(train,dtype='float64')\n",
        "  return X, Y\n",
        "# X.shape\n"
      ],
      "execution_count": 18,
      "outputs": []
    },
    {
      "cell_type": "code",
      "metadata": {
        "id": "k0e9uQsHmqUb"
      },
      "source": [
        "testx, testy = process(testX, testY)\n",
        "trainx, trainy = process(trainX, trainY)\n",
        "del trainX\n",
        "del trainY\n",
        "del testX\n",
        "del testY"
      ],
      "execution_count": 19,
      "outputs": []
    },
    {
      "cell_type": "code",
      "metadata": {
        "id": "cPMwfN8TfAFJ"
      },
      "source": [
        "testy = to_categorical(testy)\n",
        "trainy = to_categorical(trainy)\n",
        "# trainx = X[:int(X.shape[0]*.7),:,:]\n",
        "# testx = X[int(X.shape[0]*.7):,:,:]\n",
        "# Y = to_categorical(Y)\n",
        "# trainy = Y[:int(Y.shape[0]*.7)]\n",
        "# testy = Y[int(Y.shape[0]*.7):]"
      ],
      "execution_count": 20,
      "outputs": []
    },
    {
      "cell_type": "code",
      "metadata": {
        "colab": {
          "base_uri": "https://localhost:8080/"
        },
        "id": "38PvWt-fj8M1",
        "outputId": "ac915d2d-2424-4ba6-9d7b-a56d5a0f1346"
      },
      "source": [
        "trainx.shape"
      ],
      "execution_count": 21,
      "outputs": [
        {
          "output_type": "execute_result",
          "data": {
            "text/plain": [
              "(1172, 20, 3)"
            ]
          },
          "metadata": {
            "tags": []
          },
          "execution_count": 21
        }
      ]
    },
    {
      "cell_type": "code",
      "metadata": {
        "colab": {
          "base_uri": "https://localhost:8080/"
        },
        "id": "8NcUW3BKkCBv",
        "outputId": "184e74fb-ffcc-4c40-f915-7a4db67a6890"
      },
      "source": [
        "trainy.shape"
      ],
      "execution_count": 22,
      "outputs": [
        {
          "output_type": "execute_result",
          "data": {
            "text/plain": [
              "(1172, 3)"
            ]
          },
          "metadata": {
            "tags": []
          },
          "execution_count": 22
        }
      ]
    },
    {
      "cell_type": "code",
      "metadata": {
        "colab": {
          "base_uri": "https://localhost:8080/"
        },
        "id": "9FqplOppkCNV",
        "outputId": "54d1e908-7eff-4bd5-8f44-82ebc08e3695"
      },
      "source": [
        "testx.shape"
      ],
      "execution_count": 23,
      "outputs": [
        {
          "output_type": "execute_result",
          "data": {
            "text/plain": [
              "(502, 20, 3)"
            ]
          },
          "metadata": {
            "tags": []
          },
          "execution_count": 23
        }
      ]
    },
    {
      "cell_type": "code",
      "metadata": {
        "colab": {
          "base_uri": "https://localhost:8080/"
        },
        "id": "VDnftyTMkCaD",
        "outputId": "f08fac60-4cd5-4b2d-fa1c-f1b285727daf"
      },
      "source": [
        "testy.shape"
      ],
      "execution_count": 24,
      "outputs": [
        {
          "output_type": "execute_result",
          "data": {
            "text/plain": [
              "(502, 3)"
            ]
          },
          "metadata": {
            "tags": []
          },
          "execution_count": 24
        }
      ]
    },
    {
      "cell_type": "code",
      "metadata": {
        "id": "auN5biMuPaD1"
      },
      "source": [
        "def summarize_results(scores):\n",
        "\tprint(scores)\n",
        "\tm, s = mean(scores), std(scores)\n",
        "\tprint('Accuracy: %.3f%% (+/-%.3f)' % (m, s))"
      ],
      "execution_count": 25,
      "outputs": []
    },
    {
      "cell_type": "code",
      "metadata": {
        "id": "vXrIYgb5WcYQ"
      },
      "source": [
        "def evaluate_model(trainx, trainy, testx, testy):\n",
        "\tverbose, epochs, batch_size = 0, 5, 16\n",
        "\tn_timesteps, n_features, n_outputs = trainx.shape[1], trainx.shape[2], trainy.shape[1]\n",
        "\tmodel = Sequential()\n",
        "\tmodel.add(LSTM(16, input_shape=(n_timesteps,n_features)))\n",
        "\tmodel.add(Dropout(0.2))\n",
        "\t# model.add(Dense(16, activation='relu'))\n",
        "\tmodel.add(Dense(n_outputs, activation='softmax'))\n",
        "\tmodel.compile(loss='categorical_crossentropy', optimizer='adam', metrics=['accuracy'],)\n",
        "\tmodel.fit(trainx, trainy, epochs=epochs, batch_size=batch_size, verbose=verbose)\n",
        "\tloss, accuracy = model.evaluate(testx, testy, batch_size=batch_size, verbose=1)\n",
        "\treturn loss, accuracy, model"
      ],
      "execution_count": 26,
      "outputs": []
    },
    {
      "cell_type": "code",
      "metadata": {
        "id": "SzHVT51_PduO"
      },
      "source": [
        "def run_experiment(repeats=10):\n",
        "\t# load data\n",
        "\t# trainX, trainy, testX, testy = load_dataset()\n",
        "\t# repeat experiment\n",
        "\tscores = list()\n",
        "\tfor r in range(repeats):\n",
        "\t\tloss, score, model = evaluate_model(trainx, trainy, testx, testy)\n",
        "\t\tscore = score * 100.0\n",
        "\t\tprint('>#%d: %.3f' % (r+1, score))\n",
        "\t\tprint('>#%d: %.3f' % (r+1, loss))\n",
        "\t\tscores.append(score)\n",
        "\t\t# summarize results\n",
        "\t\n",
        "\tsummarize_results(scores)\n",
        "\treturn model"
      ],
      "execution_count": 27,
      "outputs": []
    },
    {
      "cell_type": "code",
      "metadata": {
        "colab": {
          "base_uri": "https://localhost:8080/"
        },
        "id": "59I-HO9tEH8O",
        "outputId": "851f26cb-f825-43d0-d824-76a208298a87"
      },
      "source": [
        "model = run_experiment()"
      ],
      "execution_count": 28,
      "outputs": [
        {
          "output_type": "stream",
          "text": [
            "32/32 [==============================] - 0s 2ms/step - loss: 0.1874 - accuracy: 0.9482\n",
            ">#1: 94.821\n",
            ">#1: 0.187\n",
            "32/32 [==============================] - 0s 2ms/step - loss: 0.2172 - accuracy: 0.9502\n",
            ">#2: 95.020\n",
            ">#2: 0.217\n",
            "32/32 [==============================] - 0s 2ms/step - loss: 0.2550 - accuracy: 0.9024\n",
            ">#3: 90.239\n",
            ">#3: 0.255\n",
            "32/32 [==============================] - 0s 2ms/step - loss: 0.1677 - accuracy: 0.9442\n",
            ">#4: 94.422\n",
            ">#4: 0.168\n",
            "32/32 [==============================] - 0s 3ms/step - loss: 0.1741 - accuracy: 0.9502\n",
            ">#5: 95.020\n",
            ">#5: 0.174\n",
            "32/32 [==============================] - 0s 2ms/step - loss: 0.1467 - accuracy: 0.9522\n",
            ">#6: 95.219\n",
            ">#6: 0.147\n",
            "32/32 [==============================] - 0s 3ms/step - loss: 0.2231 - accuracy: 0.9382\n",
            ">#7: 93.825\n",
            ">#7: 0.223\n",
            "32/32 [==============================] - 0s 2ms/step - loss: 0.1864 - accuracy: 0.9502\n",
            ">#8: 95.020\n",
            ">#8: 0.186\n",
            "32/32 [==============================] - 0s 2ms/step - loss: 0.2668 - accuracy: 0.9143\n",
            ">#9: 91.434\n",
            ">#9: 0.267\n",
            "32/32 [==============================] - 0s 2ms/step - loss: 0.2122 - accuracy: 0.9343\n",
            ">#10: 93.426\n",
            ">#10: 0.212\n",
            "[94.82071995735168, 95.01991868019104, 90.23904204368591, 94.42231059074402, 95.01991868019104, 95.21912336349487, 93.824702501297, 95.01991868019104, 91.43426418304443, 93.42629313468933]\n",
            "Accuracy: 93.845% (+/-1.622)\n"
          ],
          "name": "stdout"
        }
      ]
    },
    {
      "cell_type": "code",
      "metadata": {
        "colab": {
          "base_uri": "https://localhost:8080/"
        },
        "id": "XXb_5VD3EJJh",
        "outputId": "2c81b9c5-fb1f-4334-bdaf-902b3e6689c1"
      },
      "source": [
        "model.summary() "
      ],
      "execution_count": 29,
      "outputs": [
        {
          "output_type": "stream",
          "text": [
            "Model: \"sequential_9\"\n",
            "_________________________________________________________________\n",
            "Layer (type)                 Output Shape              Param #   \n",
            "=================================================================\n",
            "lstm_9 (LSTM)                (None, 16)                1280      \n",
            "_________________________________________________________________\n",
            "dropout_9 (Dropout)          (None, 16)                0         \n",
            "_________________________________________________________________\n",
            "dense_9 (Dense)              (None, 3)                 51        \n",
            "=================================================================\n",
            "Total params: 1,331\n",
            "Trainable params: 1,331\n",
            "Non-trainable params: 0\n",
            "_________________________________________________________________\n"
          ],
          "name": "stdout"
        }
      ]
    },
    {
      "cell_type": "code",
      "metadata": {
        "id": "dt6LjSRRtKEo"
      },
      "source": [
        "model.save('/content/drive/My Drive/Colab Notebooks/LSTM/motion_classifier.h5', include_optimizer=False)"
      ],
      "execution_count": 30,
      "outputs": []
    },
    {
      "cell_type": "code",
      "metadata": {
        "colab": {
          "base_uri": "https://localhost:8080/",
          "height": 1000
        },
        "id": "N787Y84avj_4",
        "outputId": "16eabc82-ab52-4984-c4f9-c935ceb1013a"
      },
      "source": [
        "import tensorflow as tf\n",
        "\n",
        "saved_model_dir = '/content/drive/My Drive/Colab Notebooks/LSTM/motion_classifier.h5'\n",
        "# Convert the model\n",
        "converter = tf.lite.TFLiteConverter.from_keras_model(model) # path to the SavedModel directory\n",
        "tflite_model = converter.convert()\n",
        "\n",
        "# Save the model.\n",
        "with open('/content/drive/My Drive/Colab Notebooks/LSTM/MotionClass.tflite', 'wb') as f:\n",
        "  f.write(tflite_model)"
      ],
      "execution_count": 31,
      "outputs": [
        {
          "output_type": "stream",
          "text": [
            "WARNING:tensorflow:From /usr/local/lib/python3.6/dist-packages/tensorflow/python/training/tracking/tracking.py:111: Model.state_updates (from tensorflow.python.keras.engine.training) is deprecated and will be removed in a future version.\n",
            "Instructions for updating:\n",
            "This property should not be used in TensorFlow 2.0, as updates are applied automatically.\n",
            "WARNING:tensorflow:From /usr/local/lib/python3.6/dist-packages/tensorflow/python/training/tracking/tracking.py:111: Layer.updates (from tensorflow.python.keras.engine.base_layer) is deprecated and will be removed in a future version.\n",
            "Instructions for updating:\n",
            "This property should not be used in TensorFlow 2.0, as updates are applied automatically.\n",
            "INFO:tensorflow:Assets written to: /tmp/tmp7shz33fa/assets\n"
          ],
          "name": "stdout"
        },
        {
          "output_type": "error",
          "ename": "ConverterError",
          "evalue": "ignored",
          "traceback": [
            "\u001b[0;31m---------------------------------------------------------------------------\u001b[0m",
            "\u001b[0;31mException\u001b[0m                                 Traceback (most recent call last)",
            "\u001b[0;32m/usr/local/lib/python3.6/dist-packages/tensorflow/lite/python/convert.py\u001b[0m in \u001b[0;36mtoco_convert_protos\u001b[0;34m(model_flags_str, toco_flags_str, input_data_str, debug_info_str, enable_mlir_converter)\u001b[0m\n\u001b[1;32m    198\u001b[0m                                                  \u001b[0mdebug_info_str\u001b[0m\u001b[0;34m,\u001b[0m\u001b[0;34m\u001b[0m\u001b[0;34m\u001b[0m\u001b[0m\n\u001b[0;32m--> 199\u001b[0;31m                                                  enable_mlir_converter)\n\u001b[0m\u001b[1;32m    200\u001b[0m       \u001b[0;32mreturn\u001b[0m \u001b[0mmodel_str\u001b[0m\u001b[0;34m\u001b[0m\u001b[0;34m\u001b[0m\u001b[0m\n",
            "\u001b[0;32m/usr/local/lib/python3.6/dist-packages/tensorflow/lite/python/wrap_toco.py\u001b[0m in \u001b[0;36mwrapped_toco_convert\u001b[0;34m(model_flags_str, toco_flags_str, input_data_str, debug_info_str, enable_mlir_converter)\u001b[0m\n\u001b[1;32m     37\u001b[0m       \u001b[0mdebug_info_str\u001b[0m\u001b[0;34m,\u001b[0m\u001b[0;34m\u001b[0m\u001b[0;34m\u001b[0m\u001b[0m\n\u001b[0;32m---> 38\u001b[0;31m       enable_mlir_converter)\n\u001b[0m\u001b[1;32m     39\u001b[0m \u001b[0;34m\u001b[0m\u001b[0m\n",
            "\u001b[0;31mException\u001b[0m: <unknown>:0: error: loc(callsite(callsite(callsite(unknown at \"sequential_9/lstm_9/PartitionedCall@__inference__wrapped_model_44902\") at \"StatefulPartitionedCall@__inference_signature_wrapper_47764\") at \"StatefulPartitionedCall\")): We cannot duplicate the value since it's not constant.\n\n<unknown>:0: note: loc(\"StatefulPartitionedCall\"): called from\n<unknown>:0: note: loc(callsite(callsite(callsite(unknown at \"sequential_9/lstm_9/PartitionedCall@__inference__wrapped_model_44902\") at \"StatefulPartitionedCall@__inference_signature_wrapper_47764\") at \"StatefulPartitionedCall\")): see current operation: %4 = \"tfl.unidirectional_sequence_lstm\"(%arg0, %cst_11, %cst_12, %cst_13, %cst_14, %cst_3, %cst_4, %cst_5, %cst_6, %cst_2, %cst_2, %cst_2, %cst_7, %cst_8, %cst_9, %cst_10, %cst_2, %cst_2, %3, %3, %cst_2, %cst_2, %cst_2, %cst_2) {cell_clip = 1.000000e+01 : f32, fused_activation_function = \"TANH\", proj_clip = 0.000000e+00 : f32, time_major = false} : (tensor<?x20x3xf32>, tensor<16x3xf32>, tensor<16x3xf32>, tensor<16x3xf32>, tensor<16x3xf32>, tensor<16x16xf32>, tensor<16x16xf32>, tensor<16x16xf32>, tensor<16x16xf32>, none, none, none, tensor<16xf32>, tensor<16xf32>, tensor<16xf32>, tensor<16xf32>, none, none, tensor<?x16xf32>, tensor<?x16xf32>, none, none, none, none) -> tensor<?x20x16xf32>\n<unknown>:0: error: Failed to duplicate values for the stateful op\n\n<unknown>:0: note: see current operation: \"func\"() ( {\n^bb0(%arg0: tensor<?x20x3xf32>):  // no predecessors\n  %cst = \"std.constant\"() {value = dense<[-0.120972268, 8.509000e-03, 8.404680e-02]> : tensor<3xf32>} : () -> tensor<3xf32>\n  %cst_0 = \"std.constant\"() {value = dense<0.000000e+00> : tensor<f32>} : () -> tensor<f32>\n  %cst_1 = \"std.constant\"() {value = dense<16> : tensor<i32>} : () -> tensor<i32>\n  %cst_2 = \"std.constant\"() {value} : () -> none\n  %cst_3 = \"std.constant\"() {value = dense<\"0x46DC76BD0F9B933B7FCB023E9077263E0A27DABDF920B7BD769B72BD845DA23EF83C9ABD9DBC50BD0C494D3E023A353BAF8B2D3DB73431BEFB321B3D77978B3E9D8AF83D161EBDBD351634BEC156553E56033EBE0C4705BD9F993C3E10273E3EC8B51ABEB1A99DBC2A8C06BEB496FFBD53E41A3E3372B53D1568E4BC4017B4BD187DBDBE9D695F3E8D7A57BE643C42BE0F281E3EEDCF1A3ED506C13E1664243EAA40033E9A47703D3D97313E2800883EF44D3FBE8B44F4BB2EDA33BE7B91A63D4F3277BEB68472BE7E59103EB64418BD94F9543E3446863E39C30E3E3B50D93CE8C09D3CD41D95BDF8BF45BDE23D75BD9206B8BB8018B3BE847415BDABBCEF3D84A6233C77AC60BD0F1C1DBCA68F773E25A00D3E49D0F7BD992A1EBD921B3F3E579B32BE838217BE2CF195BE34B5453E0F00053E618501BEB9FA0E3DF4C0F5BDF642FB3D4991F13D01E18FBE97F1583EFC256C3CBE2F22BEC29915BDE91FF0BD267DBBBB13678B3D68CB0FBE855D23BCB81B83BEF0E2433EA07EF7BB6F4AA3BCCE53B8BE2B4228BE4FBEDEBAC7E357BDD20C65BE688BC83DB39C0F3EF3409D3E9FBCBCBD8091AE3E1D3E833D7E7D60BCED461CBE37FE57BE6AD1ADBE574C063E8D920BBE0B33B53CE7AC08BED35D51BDAC0193BEBD83CD3DA7536D3CC82E063D354BB23D0161D73D01D26ABCF61E883DD7EAC33C6CB001BED82D213EDD51163EC13D493E198EB33D2084C0BBF4FEF33CDCC6DF3D3733B5BD5662C43EF2C73B3EEABBD9BD362F803CF430ADBDE1EE77BC9BA788BE19BC1CBE2E7A2BBEA40F92BD341645BA38FF5C3C3E13C03D4CF391BE509709BDDAA6F3BDF7B43F3D1E2D273DA8AD763E8BAC153E684EE4BD020243BEA9AC5ABE60AB94BE3C34C0BDF160913D9CF4FF3C3D81AA3D823CBBBC648227BD5F4836BEFD4BB33D25B41D3E96FD383E927F27BEBE1B0D3E6938123D8985A33DC48E453DBD0264BEB56717BC44B7293ECAC96A3D78851F3E3814FC3CD883B63E5B7034BE0B5...\n  %cst_4 = \"std.constant\"() {value = dense<\"0x6785933BC1BFC83DEA550ABE2249943DE9F51B3DC83197BE46FF383E79E13F3ED3300F3C587A3A3C6159463EB1842E3E5C07D7BCC3AFFA3D34188FBD2A35303D18C3CC3D1A81263E7E51643D2AAE983ED6B6BEBA0C0F2B3EAD5EC1BD17A9C43D7D9BAFBE462D59BC9AA2623D300F883C1DB42D3CC9774DBE59DD85BE30B852BEB629A2BD7B850E3D205D3BBDFC9426BE5655BE3D18313DBDBF0F013E77F80F3EEA898EBDE7DB3F3D7CEA723E07DB6CBE5BE51ABE63C337BE2EFE0EBEB4972F3E43CF553D97E09BBD10C14F3DAD472A3ECE0F043EA6821D3E8BF664BD0AAF923D672978BD65AB15BE231BB03D35BD5A3E698F033E82C4D0BDFE7928BE6B28BF3D1657223E4CA7D13D08F461BE9373F63D39BCADBDABDF113E95424D3EE391D43BAED093BD8F67843D792E913D06EE133E33FC673DAC15233D991648BD8B7CDB3DC81D433EE2BC5A3CD31DB6BE1A2D5ABCE62F73BCDE2CB4BC6498B5BD9A8C293C41F340BEBF0F7B3C2D9030BDD4D9103EBD4533BEE731763E57DD7E3DA1B3913D6DFE77BEA8EFACBC19FF99BD2970E2BD76C7D53CAA2803BEE74E1D3E3C0C823EA76A86BDA127993EAE30523D902253BEA8DD123A4FD44CBE073367BD021E19BC34CB0EBEB847153EFD3A49BE511F78BD8A5CE73D88F3FFBC4EF8EB3C03E198BDAC0FA83D5056B23D66BE9A3C417E583C12D8183EBF9155BE6BB229BE57BDA73E4FC9C6BD76DFA83DE53BC1BD7EEF94BD8C6748BD1B6050BE99EC0F3E082ECD3D26F508BE323CCF3E11FC9C3D4B5F87BD4BFA95BE83ADD6BCA10565BE7267B83E1B4BD2BD1C541CBDA51E8CBD5D504B3BF3D986BDB8D0EEBD06B518BDB6D506BCEECF433E7D2C40BD4B2733BE4B28643D0A65913CB50D3F3E2F6992BE4CBD3A3E66F124BEAC71D1BDE3F71FBE7613B8BDAFD8CCBD2CF90B3E70A893BE70E2A73D30528BBEDB0FA43EE052E1BDCF8756BDF64C47BE2ECF30BE03994EBD36608C3D494CC83DEC24F3BD3652863E07CB81BD374358BED26...\n  %cst_5 = \"std.constant\"() {value = dense<\"0xAD32E93A2EDF83BD9C450D3E57AF693EA9E1483C86AA8ABC42C30A3E4C6510BD364576BE1107B9BD302649BE6EDA8BBE05DBB03D851AEC3E3DE8863D257746BE3B0D8CBC4E7AE8BDE375ACBE31874F3ECF7BF13C02760FBE1F45903EC072FABDC181873EE8C1F3BCEB44C53D5E5BFB3C3984A6BD6332DCBD34419ABE14CB1CBE5095633EA34D44BE07060F3E156D823D47E3BDBC391ABBBD31BB833E722BADBC201212BE29AAB93C51CAC33D23B2A83CB539D03BA4479BBD892A8BBEC624733E9DB5033FF865E1BC6A340D3EF702393DCC7E7CBC0ABC803CD4CC32BD541B593E8A9F11BD31A0AFBD5C1AEE3DA27EDD3D178D7DBD7459B83DCFF86F3D48F487BE1AE4073BD995603D9A86633D3AD7A33EB8CA013E04B334BD27F7433ECFD239BE2DBDE83B73DC10BD5F7DAEBE17181B3E5E65B43DED9FABBD018BD5BCF556FDBDF9AD13BEEB0B2C3E54643FBE074C96BD0D73603D173E123E7786723DB67AEFBC898A833E247CB73D0D311C3E51B0ECBD26F96CBDC6D2B4BD42AD153EF4D4313D29D7AC3D01C7F23D6000E8BDF3538E3CF0EEB03EFEDA85BDFB85063E67A5A63D653E983E22F8C63D2AA4563E08C3943EAA455BBE9967AABCCAE093BE3089E03D46409ABE36CC4ABED26A77BE0568D0BC9D9B423DE1E724BED64F5ABEE41DA83C325C94BDE327FB3CCCA9E03D2B8ED1BC2BF246BE57EBCABDE5FBE83DC933B4BDB5939FBE747B563DB4219CBDFC960FBED41A833C68C0DB3D5AACD9BCE91FD8BDD7408C3EB488F33DA282A1BE197A64BC949AA43CF76F21BE8882973E6B33283E3F598ABE0D50F1BC67F5753E6A5897BE5E25B3BD6FD270BECF54A1BE7CFB823D93E2ACBDCED0A3BB664E1EBEC485EEBD8AFEBEBDE4ADD63CC6B1C13DEFED233B5EA910BD7078153EE51B9BBD9694D2BDC34CC2BBF30E34BE407A083EB828BC3D4E17873D504A64BE9AAEBF3D5E996ABEA65F1A3EBFF214BEA3E899BC5800AD3DFE14613D0FDB1D3DB731E43DAB81963E8A8FD6BD070...\n  %cst_6 = \"std.constant\"() {value = dense<\"0x904D12BCC303A9BD059B80BE68C7D3BD3DB05CBD0C957DBE4676B93E7193623D94965FBE68F8993EF1DFD43E07678E3BFC759FBD44E393BE4650ADBEF7E7233EB104AC3E01B754BE9FF7DEBCD4A8153E764F87BE58CD933EDF3535BE19E18ABDD14FECBDFE6226BCB6DB1BBE601589BEC55B343E85C6B23E2FC4803E27890FBEC06E53BE317A1EBE2DF926BDAB88DEBECC7C053CE62CF23D77D9083EF16C033F1BF0ABBBD7E5813EB4FA053EBB1F0C3D5A7ED13C040F92BE6CC21CBE4BBCAF3E349A043D774E323EBD5097BEC2615BBEA6FC1D3E824F9FBE9664753E05AA103E27B5633DC6030CBE0AD39A3D6D0F083E4F71FC3D3EE680BE89C974BE38F2163E9C06423EA852B8BDC05E4D3EE5BC91BD10E3023CAC856EBE8ED24C3E533EEDBD577536BEA926C23E7ECA2DBC1F1F473D0A124D3EA4161EBE1A5DA6BCB0DF35BE2B0DDE3DB9DF353E207015BE34081A3E048086BEB923ED3D0249E8BDDC05893D93EE073E7442C1BD885F023B05A458BE55B20F3EBF8B303EF231A23DA46599BE86B299BDF9C9DEBE9706993D465F83BD39906EBC632A253D84E713BEBECAD13E26E20E3ECB20C23EDBD5EEBCDDE473BEC6C3363EDB4892BE377F66BE814D663E5C777FBEE767E1BE96F2A63DE0AD30BEC9D1A4BEFC3125BD6F8A04BD26B7093EC5F022BE4C5F4A3E320ABFBCF9CBAD3DA32E2DBD98D287BCD52A5CBE02BC7E3EAD8276BEDD0E7BBDE446A73B97F956BE556D3B3DC122CDBDEFF0E83CA21C683D03DB30BC4716CD3EA3B2693EDA5744BE4A555FBE10E33BBE54599C3DC2DCD73EC14AB6BE928F603E858D88BE4FF67DBE505196BD85740CBE88F30D3FFA93AC3A6613C13E17965FBDAA0E603E4D9C2F3E82080BBED51245BE37D7AEBECD70683E96B00ABEF424FDBCBE745C3D0B5DA3BE3F8870BE0F6C443EDA6565BE8EDCCC3DC08902BE1A0C633E9734C3BD8CCDC73BACD824BC408E88BE3574B1BEA826C1BD7721403EB9C966BE4F5EFC3D7706983D8069DFBD427...\n  %cst_7 = \"std.constant\"() {value = dense<[0.00376602495, 0.0194278099, 0.169878945, -0.00402187416, -0.0107015539, -0.0695380643, 0.145981789, 8.424090e-02, 0.146334827, -0.0323093645, 0.102841437, 0.121634275, -0.0582239255, 0.0616032891, 0.094567351, -1.027740e-03]> : tensor<16xf32>} : () -> tensor<16xf32>\n  %cst_8 = \"std.constant\"() {value = dense<[1.10895944, 1.12491703, 1.09290504, 1.09946811, 1.09934008, 0.919157981, 1.19221103, 1.10198867, 1.15983379, 0.958884954, 1.08685577, 1.20713985, 0.91386348, 1.06962597, 1.14582253, 0.991737127]> : tensor<16xf32>} : () -> tensor<16xf32>\n  %cst_9 = \"std.constant\"() {value = dense<[0.0118958559, 0.0312013105, 0.0611298271, 0.0204786249, 0.0222106557, -0.154496029, 0.102639511, -0.0380854644, -0.101264469, 0.0196811594, -0.0180791672, 0.0405540653, 0.0940787494, -0.0141968867, -0.138202578, -0.141804293]> : tensor<16xf32>} : () -> tensor<16xf32>\n  %cst_10 = \"std.constant\"() {value = dense<[0.198854968, 0.140218228, 0.259093314, 0.199492663, 0.0511233248, -0.0978858545, 0.2485625, 0.140008584, 0.168013424, 0.121236846, 0.141816139, 0.286292911, 0.0286983475, 0.13527222, 2.610860e-01, 0.125711977]> : tensor<16xf32>} : () -> tensor<16xf32>\n  %cst_11 = \"std.constant\"() {value = dense<[[0.130224809, 0.0704417378, 0.31831193], [0.164244801, -0.0211637318, 0.175794914], [0.0491170883, 0.110789292, -0.100651123], [-0.0356679931, -0.00967174954, 0.334944308], [-0.197827548, 0.0460962467, 0.238694236], [-0.206388831, -0.142544165, 0.0475079641], [-0.0867101177, 0.0391811579, -0.194021866], [0.264700383, -0.158317178, 0.166802064], [0.0642949864, 0.134359851, -0.268922597], [-0.405816466, -0.194283694, 0.0509179793], [0.148070291, 0.0297128111, 3.191750e-01], [-0.184737816, 0.0213486347, 0.357198715], [-0.405462176, -0.177021176, 0.11088679], [0.285530478, -0.167598143, -0.159980342], [0.146231398, -0.0141212409, 0.301685542], [-0.0438860655, 0.128353551, -0.34539485]]> : tensor<16x3xf32>} : () -> tensor<16x3xf32>\n  %cst_12 = \"std.constant\"() {value = dense<[[0.00508337421, -0.217718095, -0.185343534], [-0.106125683, 0.0522014722, 0.169130623], [-3.803790e-02, 0.0957326516, 0.0536659025], [-0.0138554145, -0.291365355, -0.129364014], [-0.00141031598, 0.163027823, 6.567470e-02], [-0.0483567826, 0.274333775, 0.276432186], [0.129123122, 0.0884134098, 0.081699036], [0.356670529, 0.177852616, -0.154418185], [-0.0665204823, -0.032212548, 0.0543319918], [0.150567681, 0.12065655, 0.151878282], [-0.192834958, 0.0259616133, 0.132451385], [-0.0616883524, 0.151839316, 0.257568955], [0.204814732, -0.032309968, -0.171594903], [0.0197406728, -0.0248590074, 0.155010223], [0.0487478562, -0.0285863467, -0.025844451], [0.134764567, -0.301362067, 0.248941347]]> : tensor<16x3xf32>} : () -> tensor<16x3xf32>\n  %cst_13 = \"std.constant\"() {value = dense<[[3.304540e-02, 0.0188228879, 0.194196492], [0.0969380289, -0.141911089, 0.0498519205], [-0.191477895, 0.23377347, -0.172120944], [-0.128483355, 0.0132603189, 0.258340269], [-0.167909905, -0.0761650354, 0.206207618], [-0.308067352, 0.108797908, 0.126565605], [0.0444234312, -0.0416477807, -0.0558653437], [0.156613961, -0.207785875, -0.0493950583], [-0.127318382, -0.13594614, -0.0135644693], [0.397874624, -0.141382888, 0.147653073], [0.16328831, -0.161324322, 0.155011505], [-0.127055287, -0.0642642379, 0.132169813], [-0.153986603, 0.162327781, 0.0352988876], [0.107124127, 0.0266381335, -0.190505207], [0.0343959853, 0.13984482, -0.0772813559], [-0.339871496, -0.219303355, 0.0704778805]]> : tensor<16x3xf32>} : () -> tensor<16x3xf32>\n  %cst_14 = \"std.constant\"() {value = dense<[[0.286371142, -0.156650379, -0.117627494], [-8.797510e-02, 0.120998956, -0.133980438], [-0.158763528, 0.0356251597, 0.0768864378], [0.160920739, -0.318888843, 0.035639558], [-0.352662981, 0.198732033, -0.142998159], [0.107623182, 0.0804696828, -0.260931253], [0.395433515, 0.00303536328, -0.10695225], [0.0177385304, -0.124069944, -0.304407775], [0.106142566, 0.106314622, -0.127144277], [0.110988297, 0.128673166, -0.238992199], [0.244901299, -0.0820807591, 0.206218302], [-0.238731042, 0.232174471, 0.298570573], [0.0121177575, 0.157645315, -0.0625164583], [-0.0233241022, -0.109830149, -0.00923281908], [-0.026593117, -0.181631967, 0.0131779043], [0.088113822, -0.128107145, 0.163457856]]> : tensor<16x3xf32>} : () -> tensor<16x3xf32>\n  %cst_15 = \"std.constant\"() {value = dense<[[-0.212393627, 0.0338570401, 0.111116007, 0.0881581306, -0.315218776, -0.363089651, -0.504790962, -0.258468091, -0.0770562738, 0.234656021, -0.582467258, -0.0820645391, -0.276296049, 0.561763823, 0.422011077, -0.405339479], [-0.649291873, 0.311162174, -0.433458596, -0.0612832792, -0.399856299, 0.241411343, 3.114550e-01, 0.289406717, 0.735421478, 0.311554313, 0.346679389, 0.133494675, -0.341120392, -0.431948125, -0.17761603, -0.13750954], [-0.19113563, 0.697484255, 0.0545513481, 0.383574545, 0.0494732298, -0.357803106, 0.169677362, 0.0336771905, -0.138652697, -0.064820908, 0.00321641751, 0.310996473, 0.460624725, 0.271490484, -3.542980e-01, -0.561261833]]> : tensor<3x16xf32>} : () -> tensor<3x16xf32>\n  %cst_16 = \"std.constant\"() {value = dense<0> : tensor<1xi32>} : () -> tensor<1xi32>\n  %cst_17 = \"std.constant\"() {value = dense<1> : tensor<1xi32>} : () -> tensor<1xi32>\n  %cst_18 = \"std.constant\"() {value = dense<[0, -1, 0]> : tensor<3xi32>} : () -> tensor<3xi32>\n  %cst_19 = \"std.constant\"() {value = dense<0> : tensor<3xi32>} : () -> tensor<3xi32>\n  %cst_20 = \"std.constant\"() {value = dense<1> : tensor<3xi32>} : () -> tensor<3xi32>\n  %0 = \"tfl.shape\"(%arg0) : (tensor<?x20x3xf32>) -> tensor<3xi32>\n  %1 = \"tfl.strided_slice\"(%0, %cst_16, %cst_17, %cst_17) {begin_mask = 0 : i32, ellipsis_mask = 0 : i32, end_mask = 0 : i32, new_axis_mask = 0 : i32, shrink_axis_mask = 1 : i32} : (tensor<3xi32>, tensor<1xi32>, tensor<1xi32>, tensor<1xi32>) -> tensor<i32>\n  %2 = \"tfl.pack\"(%1, %cst_1) {axis = 0 : i32, values_count = 2 : i32} : (tensor<i32>, tensor<i32>) -> tensor<2xi32>\n  %3 = \"tfl.fill\"(%2, %cst_0) : (tensor<2xi32>, tensor<f32>) -> tensor<?x16xf32>\n  %4 = \"tfl.unidirectional_sequence_lstm\"(%arg0, %cst_11, %cst_12, %cst_13, %cst_14, %cst_3, %cst_4, %cst_5, %cst_6, %cst_2, %cst_2, %cst_2, %cst_7, %cst_8, %cst_9, %cst_10, %cst_2, %cst_2, %3, %3, %cst_2, %cst_2, %cst_2, %cst_2) {cell_clip = 1.000000e+01 : f32, fused_activation_function = \"TANH\", proj_clip = 0.000000e+00 : f32, time_major = false} : (tensor<?x20x3xf32>, tensor<16x3xf32>, tensor<16x3xf32>, tensor<16x3xf32>, tensor<16x3xf32>, tensor<16x16xf32>, tensor<16x16xf32>, tensor<16x16xf32>, tensor<16x16xf32>, none, none, none, tensor<16xf32>, tensor<16xf32>, tensor<16xf32>, tensor<16xf32>, none, none, tensor<?x16xf32>, tensor<?x16xf32>, none, none, none, none) -> tensor<?x20x16xf32>\n  %5 = \"tfl.strided_slice\"(%4, %cst_18, %cst_19, %cst_20) {begin_mask = 5 : i32, ellipsis_mask = 0 : i32, end_mask = 5 : i32, new_axis_mask = 0 : i32, shrink_axis_mask = 2 : i32} : (tensor<?x20x16xf32>, tensor<3xi32>, tensor<3xi32>, tensor<3xi32>) -> tensor<?x16xf32>\n  %6 = \"tfl.fully_connected\"(%5, %cst_15, %cst) {fused_activation_function = \"NONE\", keep_num_dims = false, weights_format = \"DEFAULT\"} : (tensor<?x16xf32>, tensor<3x16xf32>, tensor<3xf32>) -> tensor<?x3xf32>\n  %7 = \"tfl.softmax\"(%6) {beta = 1.000000e+00 : f32} : (tensor<?x3xf32>) -> tensor<?x3xf32>\n  \"std.return\"(%7) : (tensor<?x3xf32>) -> ()\n}) {arg0 = {tf_saved_model.index_path = [\"lstm_9_input\"]}, result0 = {tf_saved_model.index_path = [\"dense_9\"]}, sym_name = \"serving_default\", tf.entry_function = {control_outputs = \"\", inputs = \"serving_default_lstm_9_input:0\", outputs = \"StatefulPartitionedCall:0\"}, tf_saved_model.exported_names = [\"serving_default\"], type = (tensor<?x20x3xf32>) -> tensor<?x3xf32>} : () -> ()\n",
            "\nDuring handling of the above exception, another exception occurred:\n",
            "\u001b[0;31mConverterError\u001b[0m                            Traceback (most recent call last)",
            "\u001b[0;32m<ipython-input-31-112f3888077a>\u001b[0m in \u001b[0;36m<module>\u001b[0;34m()\u001b[0m\n\u001b[1;32m      4\u001b[0m \u001b[0;31m# Convert the model\u001b[0m\u001b[0;34m\u001b[0m\u001b[0;34m\u001b[0m\u001b[0;34m\u001b[0m\u001b[0m\n\u001b[1;32m      5\u001b[0m \u001b[0mconverter\u001b[0m \u001b[0;34m=\u001b[0m \u001b[0mtf\u001b[0m\u001b[0;34m.\u001b[0m\u001b[0mlite\u001b[0m\u001b[0;34m.\u001b[0m\u001b[0mTFLiteConverter\u001b[0m\u001b[0;34m.\u001b[0m\u001b[0mfrom_keras_model\u001b[0m\u001b[0;34m(\u001b[0m\u001b[0mmodel\u001b[0m\u001b[0;34m)\u001b[0m \u001b[0;31m# path to the SavedModel directory\u001b[0m\u001b[0;34m\u001b[0m\u001b[0;34m\u001b[0m\u001b[0m\n\u001b[0;32m----> 6\u001b[0;31m \u001b[0mtflite_model\u001b[0m \u001b[0;34m=\u001b[0m \u001b[0mconverter\u001b[0m\u001b[0;34m.\u001b[0m\u001b[0mconvert\u001b[0m\u001b[0;34m(\u001b[0m\u001b[0;34m)\u001b[0m\u001b[0;34m\u001b[0m\u001b[0;34m\u001b[0m\u001b[0m\n\u001b[0m\u001b[1;32m      7\u001b[0m \u001b[0;34m\u001b[0m\u001b[0m\n\u001b[1;32m      8\u001b[0m \u001b[0;31m# Save the model.\u001b[0m\u001b[0;34m\u001b[0m\u001b[0;34m\u001b[0m\u001b[0;34m\u001b[0m\u001b[0m\n",
            "\u001b[0;32m/usr/local/lib/python3.6/dist-packages/tensorflow/lite/python/lite.py\u001b[0m in \u001b[0;36mconvert\u001b[0;34m(self)\u001b[0m\n\u001b[1;32m    785\u001b[0m         \u001b[0mInvalid\u001b[0m \u001b[0mquantization\u001b[0m \u001b[0mparameters\u001b[0m\u001b[0;34m.\u001b[0m\u001b[0;34m\u001b[0m\u001b[0;34m\u001b[0m\u001b[0m\n\u001b[1;32m    786\u001b[0m     \"\"\"\n\u001b[0;32m--> 787\u001b[0;31m     \u001b[0msaved_model_convert_result\u001b[0m \u001b[0;34m=\u001b[0m \u001b[0mself\u001b[0m\u001b[0;34m.\u001b[0m\u001b[0m_convert_as_saved_model\u001b[0m\u001b[0;34m(\u001b[0m\u001b[0;34m)\u001b[0m\u001b[0;34m\u001b[0m\u001b[0;34m\u001b[0m\u001b[0m\n\u001b[0m\u001b[1;32m    788\u001b[0m     \u001b[0;32mif\u001b[0m \u001b[0msaved_model_convert_result\u001b[0m\u001b[0;34m:\u001b[0m\u001b[0;34m\u001b[0m\u001b[0;34m\u001b[0m\u001b[0m\n\u001b[1;32m    789\u001b[0m       \u001b[0;32mreturn\u001b[0m \u001b[0msaved_model_convert_result\u001b[0m\u001b[0;34m\u001b[0m\u001b[0;34m\u001b[0m\u001b[0m\n",
            "\u001b[0;32m/usr/local/lib/python3.6/dist-packages/tensorflow/lite/python/lite.py\u001b[0m in \u001b[0;36m_convert_as_saved_model\u001b[0;34m(self)\u001b[0m\n\u001b[1;32m    769\u001b[0m         return super(TFLiteKerasModelConverterV2,\n\u001b[1;32m    770\u001b[0m                      \u001b[0mself\u001b[0m\u001b[0;34m)\u001b[0m\u001b[0;34m.\u001b[0m\u001b[0mconvert\u001b[0m\u001b[0;34m(\u001b[0m\u001b[0mmeta_graph\u001b[0m\u001b[0;34m.\u001b[0m\u001b[0mgraph_def\u001b[0m\u001b[0;34m,\u001b[0m \u001b[0minput_tensors\u001b[0m\u001b[0;34m,\u001b[0m\u001b[0;34m\u001b[0m\u001b[0;34m\u001b[0m\u001b[0m\n\u001b[0;32m--> 771\u001b[0;31m                                    output_tensors)\n\u001b[0m\u001b[1;32m    772\u001b[0m     \u001b[0;32mfinally\u001b[0m\u001b[0;34m:\u001b[0m\u001b[0;34m\u001b[0m\u001b[0;34m\u001b[0m\u001b[0m\n\u001b[1;32m    773\u001b[0m       \u001b[0mshutil\u001b[0m\u001b[0;34m.\u001b[0m\u001b[0mrmtree\u001b[0m\u001b[0;34m(\u001b[0m\u001b[0mtemp_dir\u001b[0m\u001b[0;34m,\u001b[0m \u001b[0;32mTrue\u001b[0m\u001b[0;34m)\u001b[0m\u001b[0;34m\u001b[0m\u001b[0;34m\u001b[0m\u001b[0m\n",
            "\u001b[0;32m/usr/local/lib/python3.6/dist-packages/tensorflow/lite/python/lite.py\u001b[0m in \u001b[0;36mconvert\u001b[0;34m(self, graph_def, input_tensors, output_tensors)\u001b[0m\n\u001b[1;32m    631\u001b[0m         \u001b[0minput_tensors\u001b[0m\u001b[0;34m=\u001b[0m\u001b[0minput_tensors\u001b[0m\u001b[0;34m,\u001b[0m\u001b[0;34m\u001b[0m\u001b[0;34m\u001b[0m\u001b[0m\n\u001b[1;32m    632\u001b[0m         \u001b[0moutput_tensors\u001b[0m\u001b[0;34m=\u001b[0m\u001b[0moutput_tensors\u001b[0m\u001b[0;34m,\u001b[0m\u001b[0;34m\u001b[0m\u001b[0;34m\u001b[0m\u001b[0m\n\u001b[0;32m--> 633\u001b[0;31m         **converter_kwargs)\n\u001b[0m\u001b[1;32m    634\u001b[0m \u001b[0;34m\u001b[0m\u001b[0m\n\u001b[1;32m    635\u001b[0m     calibrate_and_quantize, flags = quant_mode.quantizer_flags(\n",
            "\u001b[0;32m/usr/local/lib/python3.6/dist-packages/tensorflow/lite/python/convert.py\u001b[0m in \u001b[0;36mtoco_convert_impl\u001b[0;34m(input_data, input_tensors, output_tensors, enable_mlir_converter, *args, **kwargs)\u001b[0m\n\u001b[1;32m    572\u001b[0m       \u001b[0minput_data\u001b[0m\u001b[0;34m.\u001b[0m\u001b[0mSerializeToString\u001b[0m\u001b[0;34m(\u001b[0m\u001b[0;34m)\u001b[0m\u001b[0;34m,\u001b[0m\u001b[0;34m\u001b[0m\u001b[0;34m\u001b[0m\u001b[0m\n\u001b[1;32m    573\u001b[0m       \u001b[0mdebug_info_str\u001b[0m\u001b[0;34m=\u001b[0m\u001b[0mdebug_info_str\u001b[0m\u001b[0;34m,\u001b[0m\u001b[0;34m\u001b[0m\u001b[0;34m\u001b[0m\u001b[0m\n\u001b[0;32m--> 574\u001b[0;31m       enable_mlir_converter=enable_mlir_converter)\n\u001b[0m\u001b[1;32m    575\u001b[0m   \u001b[0;32mreturn\u001b[0m \u001b[0mdata\u001b[0m\u001b[0;34m\u001b[0m\u001b[0;34m\u001b[0m\u001b[0m\n\u001b[1;32m    576\u001b[0m \u001b[0;34m\u001b[0m\u001b[0m\n",
            "\u001b[0;32m/usr/local/lib/python3.6/dist-packages/tensorflow/lite/python/convert.py\u001b[0m in \u001b[0;36mtoco_convert_protos\u001b[0;34m(model_flags_str, toco_flags_str, input_data_str, debug_info_str, enable_mlir_converter)\u001b[0m\n\u001b[1;32m    200\u001b[0m       \u001b[0;32mreturn\u001b[0m \u001b[0mmodel_str\u001b[0m\u001b[0;34m\u001b[0m\u001b[0;34m\u001b[0m\u001b[0m\n\u001b[1;32m    201\u001b[0m     \u001b[0;32mexcept\u001b[0m \u001b[0mException\u001b[0m \u001b[0;32mas\u001b[0m \u001b[0me\u001b[0m\u001b[0;34m:\u001b[0m\u001b[0;34m\u001b[0m\u001b[0;34m\u001b[0m\u001b[0m\n\u001b[0;32m--> 202\u001b[0;31m       \u001b[0;32mraise\u001b[0m \u001b[0mConverterError\u001b[0m\u001b[0;34m(\u001b[0m\u001b[0mstr\u001b[0m\u001b[0;34m(\u001b[0m\u001b[0me\u001b[0m\u001b[0;34m)\u001b[0m\u001b[0;34m)\u001b[0m\u001b[0;34m\u001b[0m\u001b[0;34m\u001b[0m\u001b[0m\n\u001b[0m\u001b[1;32m    203\u001b[0m \u001b[0;34m\u001b[0m\u001b[0m\n\u001b[1;32m    204\u001b[0m   \u001b[0;32mif\u001b[0m \u001b[0mdistutils\u001b[0m\u001b[0;34m.\u001b[0m\u001b[0mspawn\u001b[0m\u001b[0;34m.\u001b[0m\u001b[0mfind_executable\u001b[0m\u001b[0;34m(\u001b[0m\u001b[0m_toco_from_proto_bin\u001b[0m\u001b[0;34m)\u001b[0m \u001b[0;32mis\u001b[0m \u001b[0;32mNone\u001b[0m\u001b[0;34m:\u001b[0m\u001b[0;34m\u001b[0m\u001b[0;34m\u001b[0m\u001b[0m\n",
            "\u001b[0;31mConverterError\u001b[0m: <unknown>:0: error: loc(callsite(callsite(callsite(unknown at \"sequential_9/lstm_9/PartitionedCall@__inference__wrapped_model_44902\") at \"StatefulPartitionedCall@__inference_signature_wrapper_47764\") at \"StatefulPartitionedCall\")): We cannot duplicate the value since it's not constant.\n\n<unknown>:0: note: loc(\"StatefulPartitionedCall\"): called from\n<unknown>:0: note: loc(callsite(callsite(callsite(unknown at \"sequential_9/lstm_9/PartitionedCall@__inference__wrapped_model_44902\") at \"StatefulPartitionedCall@__inference_signature_wrapper_47764\") at \"StatefulPartitionedCall\")): see current operation: %4 = \"tfl.unidirectional_sequence_lstm\"(%arg0, %cst_11, %cst_12, %cst_13, %cst_14, %cst_3, %cst_4, %cst_5, %cst_6, %cst_2, %cst_2, %cst_2, %cst_7, %cst_8, %cst_9, %cst_10, %cst_2, %cst_2, %3, %3, %cst_2, %cst_2, %cst_2, %cst_2) {cell_clip = 1.000000e+01 : f32, fused_activation_function = \"TANH\", proj_clip = 0.000000e+00 : f32, time_major = false} : (tensor<?x20x3xf32>, tensor<16x3xf32>, tensor<16x3xf32>, tensor<16x3xf32>, tensor<16x3xf32>, tensor<16x16xf32>, tensor<16x16xf32>, tensor<16x16xf32>, tensor<16x16xf32>, none, none, none, tensor<16xf32>, tensor<16xf32>, tensor<16xf32>, tensor<16xf32>, none, none, tensor<?x16xf32>, tensor<?x16xf32>, none, none, none, none) -> tensor<?x20x16xf32>\n<unknown>:0: error: Failed to duplicate values for the stateful op\n\n<unknown>:0: note: see current operation: \"func\"() ( {\n^bb0(%arg0: tensor<?x20x3xf32>):  // no predecessors\n  %cst = \"std.constant\"() {value = dense<[-0.120972268, 8.509000e-03, 8.404680e-02]> : tensor<3xf32>} : () -> tensor<3xf32>\n  %cst_0 = \"std.constant\"() {value = dense<0.000000e+00> : tensor<f32>} : () -> tensor<f32>\n  %cst_1 = \"std.constant\"() {value = dense<16> : tensor<i32>} : () -> tensor<i32>\n  %cst_2 = \"std.constant\"() {value} : () -> none\n  %cst_3 = \"std.constant\"() {value = dense<\"0x46DC76BD0F9B933B7FCB023E9077263E0A27DABDF920B7BD769B72BD845DA23EF83C9ABD9DBC50BD0C494D3E023A353BAF8B2D3DB73431BEFB321B3D77978B3E9D8AF83D161EBDBD351634BEC156553E56033EBE0C4705BD9F993C3E10273E3EC8B51ABEB1A99DBC2A8C06BEB496FFBD53E41A3E3372B53D1568E4BC4017B4BD187DBDBE9D695F3E8D7A57BE643C42BE0F281E3EEDCF1A3ED506C13E1664243EAA40033E9A47703D3D97313E2800883EF44D3FBE8B44F4BB2EDA33BE7B91A63D4F3277BEB68472BE7E59103EB64418BD94F9543E3446863E39C30E3E3B50D93CE8C09D3CD41D95BDF8BF45BDE23D75BD9206B8BB8018B3BE847415BDABBCEF3D84A6233C77AC60BD0F1C1DBCA68F773E25A00D3E49D0F7BD992A1EBD921B3F3E579B32BE838217BE2CF195BE34B5453E0F00053E618501BEB9FA0E3DF4C0F5BDF642FB3D4991F13D01E18FBE97F1583EFC256C3CBE2F22BEC29915BDE91FF0BD267DBBBB13678B3D68CB0FBE855D23BCB81B83BEF0E2433EA07EF7BB6F4AA3BCCE53B8BE2B4228BE4FBEDEBAC7E357BDD20C65BE688BC83DB39C0F3EF3409D3E9FBCBCBD8091AE3E1D3E833D7E7D60BCED461CBE37FE57BE6AD1ADBE574C063E8D920BBE0B33B53CE7AC08BED35D51BDAC0193BEBD83CD3DA7536D3CC82E063D354BB23D0161D73D01D26ABCF61E883DD7EAC33C6CB001BED82D213EDD51163EC13D493E198EB33D2084C0BBF4FEF33CDCC6DF3D3733B5BD5662C43EF2C73B3EEABBD9BD362F803CF430ADBDE1EE77BC9BA788BE19BC1CBE2E7A2BBEA40F92BD341645BA38FF5C3C3E13C03D4CF391BE509709BDDAA6F3BDF7B43F3D1E2D273DA8AD763E8BAC153E684EE4BD020243BEA9AC5ABE60AB94BE3C34C0BDF160913D9CF4FF3C3D81AA3D823CBBBC648227BD5F4836BEFD4BB33D25B41D3E96FD383E927F27BEBE1B0D3E6938123D8985A33DC48E453DBD0264BEB56717BC44B7293ECAC96A3D78851F3E3814FC3CD883B63E5B7034BE0B5...\n  %cst_4 = \"std.constant\"() {value = dense<\"0x6785933BC1BFC83DEA550ABE2249943DE9F51B3DC83197BE46FF383E79E13F3ED3300F3C587A3A3C6159463EB1842E3E5C07D7BCC3AFFA3D34188FBD2A35303D18C3CC3D1A81263E7E51643D2AAE983ED6B6BEBA0C0F2B3EAD5EC1BD17A9C43D7D9BAFBE462D59BC9AA2623D300F883C1DB42D3CC9774DBE59DD85BE30B852BEB629A2BD7B850E3D205D3BBDFC9426BE5655BE3D18313DBDBF0F013E77F80F3EEA898EBDE7DB3F3D7CEA723E07DB6CBE5BE51ABE63C337BE2EFE0EBEB4972F3E43CF553D97E09BBD10C14F3DAD472A3ECE0F043EA6821D3E8BF664BD0AAF923D672978BD65AB15BE231BB03D35BD5A3E698F033E82C4D0BDFE7928BE6B28BF3D1657223E4CA7D13D08F461BE9373F63D39BCADBDABDF113E95424D3EE391D43BAED093BD8F67843D792E913D06EE133E33FC673DAC15233D991648BD8B7CDB3DC81D433EE2BC5A3CD31DB6BE1A2D5ABCE62F73BCDE2CB4BC6498B5BD9A8C293C41F340BEBF0F7B3C2D9030BDD4D9103EBD4533BEE731763E57DD7E3DA1B3913D6DFE77BEA8EFACBC19FF99BD2970E2BD76C7D53CAA2803BEE74E1D3E3C0C823EA76A86BDA127993EAE30523D902253BEA8DD123A4FD44CBE073367BD021E19BC34CB0EBEB847153EFD3A49BE511F78BD8A5CE73D88F3FFBC4EF8EB3C03E198BDAC0FA83D5056B23D66BE9A3C417E583C12D8183EBF9155BE6BB229BE57BDA73E4FC9C6BD76DFA83DE53BC1BD7EEF94BD8C6748BD1B6050BE99EC0F3E082ECD3D26F508BE323CCF3E11FC9C3D4B5F87BD4BFA95BE83ADD6BCA10565BE7267B83E1B4BD2BD1C541CBDA51E8CBD5D504B3BF3D986BDB8D0EEBD06B518BDB6D506BCEECF433E7D2C40BD4B2733BE4B28643D0A65913CB50D3F3E2F6992BE4CBD3A3E66F124BEAC71D1BDE3F71FBE7613B8BDAFD8CCBD2CF90B3E70A893BE70E2A73D30528BBEDB0FA43EE052E1BDCF8756BDF64C47BE2ECF30BE03994EBD36608C3D494CC83DEC24F3BD3652863E07CB81BD374358BED26...\n  %cst_5 = \"std.constant\"() {value = dense<\"0xAD32E93A2EDF83BD9C450D3E57AF693EA9E1483C86AA8ABC42C30A3E4C6510BD364576BE1107B9BD302649BE6EDA8BBE05DBB03D851AEC3E3DE8863D257746BE3B0D8CBC4E7AE8BDE375ACBE31874F3ECF7BF13C02760FBE1F45903EC072FABDC181873EE8C1F3BCEB44C53D5E5BFB3C3984A6BD6332DCBD34419ABE14CB1CBE5095633EA34D44BE07060F3E156D823D47E3BDBC391ABBBD31BB833E722BADBC201212BE29AAB93C51CAC33D23B2A83CB539D03BA4479BBD892A8BBEC624733E9DB5033FF865E1BC6A340D3EF702393DCC7E7CBC0ABC803CD4CC32BD541B593E8A9F11BD31A0AFBD5C1AEE3DA27EDD3D178D7DBD7459B83DCFF86F3D48F487BE1AE4073BD995603D9A86633D3AD7A33EB8CA013E04B334BD27F7433ECFD239BE2DBDE83B73DC10BD5F7DAEBE17181B3E5E65B43DED9FABBD018BD5BCF556FDBDF9AD13BEEB0B2C3E54643FBE074C96BD0D73603D173E123E7786723DB67AEFBC898A833E247CB73D0D311C3E51B0ECBD26F96CBDC6D2B4BD42AD153EF4D4313D29D7AC3D01C7F23D6000E8BDF3538E3CF0EEB03EFEDA85BDFB85063E67A5A63D653E983E22F8C63D2AA4563E08C3943EAA455BBE9967AABCCAE093BE3089E03D46409ABE36CC4ABED26A77BE0568D0BC9D9B423DE1E724BED64F5ABEE41DA83C325C94BDE327FB3CCCA9E03D2B8ED1BC2BF246BE57EBCABDE5FBE83DC933B4BDB5939FBE747B563DB4219CBDFC960FBED41A833C68C0DB3D5AACD9BCE91FD8BDD7408C3EB488F33DA282A1BE197A64BC949AA43CF76F21BE8882973E6B33283E3F598ABE0D50F1BC67F5753E6A5897BE5E25B3BD6FD270BECF54A1BE7CFB823D93E2ACBDCED0A3BB664E1EBEC485EEBD8AFEBEBDE4ADD63CC6B1C13DEFED233B5EA910BD7078153EE51B9BBD9694D2BDC34CC2BBF30E34BE407A083EB828BC3D4E17873D504A64BE9AAEBF3D5E996ABEA65F1A3EBFF214BEA3E899BC5800AD3DFE14613D0FDB1D3DB731E43DAB81963E8A8FD6BD070...\n  %cst_6 = \"std.constant\"() {value = dense<\"0x904D12BCC303A9BD059B80BE68C7D3BD3DB05CBD0C957DBE4676B93E7193623D94965FBE68F8993EF1DFD43E07678E3BFC759FBD44E393BE4650ADBEF7E7233EB104AC3E01B754BE9FF7DEBCD4A8153E764F87BE58CD933EDF3535BE19E18ABDD14FECBDFE6226BCB6DB1BBE601589BEC55B343E85C6B23E2FC4803E27890FBEC06E53BE317A1EBE2DF926BDAB88DEBECC7C053CE62CF23D77D9083EF16C033F1BF0ABBBD7E5813EB4FA053EBB1F0C3D5A7ED13C040F92BE6CC21CBE4BBCAF3E349A043D774E323EBD5097BEC2615BBEA6FC1D3E824F9FBE9664753E05AA103E27B5633DC6030CBE0AD39A3D6D0F083E4F71FC3D3EE680BE89C974BE38F2163E9C06423EA852B8BDC05E4D3EE5BC91BD10E3023CAC856EBE8ED24C3E533EEDBD577536BEA926C23E7ECA2DBC1F1F473D0A124D3EA4161EBE1A5DA6BCB0DF35BE2B0DDE3DB9DF353E207015BE34081A3E048086BEB923ED3D0249E8BDDC05893D93EE073E7442C1BD885F023B05A458BE55B20F3EBF8B303EF231A23DA46599BE86B299BDF9C9DEBE9706993D465F83BD39906EBC632A253D84E713BEBECAD13E26E20E3ECB20C23EDBD5EEBCDDE473BEC6C3363EDB4892BE377F66BE814D663E5C777FBEE767E1BE96F2A63DE0AD30BEC9D1A4BEFC3125BD6F8A04BD26B7093EC5F022BE4C5F4A3E320ABFBCF9CBAD3DA32E2DBD98D287BCD52A5CBE02BC7E3EAD8276BEDD0E7BBDE446A73B97F956BE556D3B3DC122CDBDEFF0E83CA21C683D03DB30BC4716CD3EA3B2693EDA5744BE4A555FBE10E33BBE54599C3DC2DCD73EC14AB6BE928F603E858D88BE4FF67DBE505196BD85740CBE88F30D3FFA93AC3A6613C13E17965FBDAA0E603E4D9C2F3E82080BBED51245BE37D7AEBECD70683E96B00ABEF424FDBCBE745C3D0B5DA3BE3F8870BE0F6C443EDA6565BE8EDCCC3DC08902BE1A0C633E9734C3BD8CCDC73BACD824BC408E88BE3574B1BEA826C1BD7721403EB9C966BE4F5EFC3D7706983D8069DFBD427...\n  %cst_7 = \"std.constant\"() {value = dense<[0.00376602495, 0.0194278099, 0.169878945, -0.00402187416, -0.0107015539, -0.0695380643, 0.145981789, 8.424090e-02, 0.146334827, -0.0323093645, 0.102841437, 0.121634275, -0.0582239255, 0.0616032891, 0.094567351, -1.027740e-03]> : tensor<16xf32>} : () -> tensor<16xf32>\n  %cst_8 = \"std.constant\"() {value = dense<[1.10895944, 1.12491703, 1.09290504, 1.09946811, 1.09934008, 0.919157981, 1.19221103, 1.10198867, 1.15983379, 0.958884954, 1.08685577, 1.20713985, 0.91386348, 1.06962597, 1.14582253, 0.991737127]> : tensor<16xf32>} : () -> tensor<16xf32>\n  %cst_9 = \"std.constant\"() {value = dense<[0.0118958559, 0.0312013105, 0.0611298271, 0.0204786249, 0.0222106557, -0.154496029, 0.102639511, -0.0380854644, -0.101264469, 0.0196811594, -0.0180791672, 0.0405540653, 0.0940787494, -0.0141968867, -0.138202578, -0.141804293]> : tensor<16xf32>} : () -> tensor<16xf32>\n  %cst_10 = \"std.constant\"() {value = dense<[0.198854968, 0.140218228, 0.259093314, 0.199492663, 0.0511233248, -0.0978858545, 0.2485625, 0.140008584, 0.168013424, 0.121236846, 0.141816139, 0.286292911, 0.0286983475, 0.13527222, 2.610860e-01, 0.125711977]> : tensor<16xf32>} : () -> tensor<16xf32>\n  %cst_11 = \"std.constant\"() {value = dense<[[0.130224809, 0.0704417378, 0.31831193], [0.164244801, -0.0211637318, 0.175794914], [0.0491170883, 0.110789292, -0.100651123], [-0.0356679931, -0.00967174954, 0.334944308], [-0.197827548, 0.0460962467, 0.238694236], [-0.206388831, -0.142544165, 0.0475079641], [-0.0867101177, 0.0391811579, -0.194021866], [0.264700383, -0.158317178, 0.166802064], [0.0642949864, 0.134359851, -0.268922597], [-0.405816466, -0.194283694, 0.0509179793], [0.148070291, 0.0297128111, 3.191750e-01], [-0.184737816, 0.0213486347, 0.357198715], [-0.405462176, -0.177021176, 0.11088679], [0.285530478, -0.167598143, -0.159980342], [0.146231398, -0.0141212409, 0.301685542], [-0.0438860655, 0.128353551, -0.34539485]]> : tensor<16x3xf32>} : () -> tensor<16x3xf32>\n  %cst_12 = \"std.constant\"() {value = dense<[[0.00508337421, -0.217718095, -0.185343534], [-0.106125683, 0.0522014722, 0.169130623], [-3.803790e-02, 0.0957326516, 0.0536659025], [-0.0138554145, -0.291365355, -0.129364014], [-0.00141031598, 0.163027823, 6.567470e-02], [-0.0483567826, 0.274333775, 0.276432186], [0.129123122, 0.0884134098, 0.081699036], [0.356670529, 0.177852616, -0.154418185], [-0.0665204823, -0.032212548, 0.0543319918], [0.150567681, 0.12065655, 0.151878282], [-0.192834958, 0.0259616133, 0.132451385], [-0.0616883524, 0.151839316, 0.257568955], [0.204814732, -0.032309968, -0.171594903], [0.0197406728, -0.0248590074, 0.155010223], [0.0487478562, -0.0285863467, -0.025844451], [0.134764567, -0.301362067, 0.248941347]]> : tensor<16x3xf32>} : () -> tensor<16x3xf32>\n  %cst_13 = \"std.constant\"() {value = dense<[[3.304540e-02, 0.0188228879, 0.194196492], [0.0969380289, -0.141911089, 0.0498519205], [-0.191477895, 0.23377347, -0.172120944], [-0.128483355, 0.0132603189, 0.258340269], [-0.167909905, -0.0761650354, 0.206207618], [-0.308067352, 0.108797908, 0.126565605], [0.0444234312, -0.0416477807, -0.0558653437], [0.156613961, -0.207785875, -0.0493950583], [-0.127318382, -0.13594614, -0.0135644693], [0.397874624, -0.141382888, 0.147653073], [0.16328831, -0.161324322, 0.155011505], [-0.127055287, -0.0642642379, 0.132169813], [-0.153986603, 0.162327781, 0.0352988876], [0.107124127, 0.0266381335, -0.190505207], [0.0343959853, 0.13984482, -0.0772813559], [-0.339871496, -0.219303355, 0.0704778805]]> : tensor<16x3xf32>} : () -> tensor<16x3xf32>\n  %cst_14 = \"std.constant\"() {value = dense<[[0.286371142, -0.156650379, -0.117627494], [-8.797510e-02, 0.120998956, -0.133980438], [-0.158763528, 0.0356251597, 0.0768864378], [0.160920739, -0.318888843, 0.035639558], [-0.352662981, 0.198732033, -0.142998159], [0.107623182, 0.0804696828, -0.260931253], [0.395433515, 0.00303536328, -0.10695225], [0.0177385304, -0.124069944, -0.304407775], [0.106142566, 0.106314622, -0.127144277], [0.110988297, 0.128673166, -0.238992199], [0.244901299, -0.0820807591, 0.206218302], [-0.238731042, 0.232174471, 0.298570573], [0.0121177575, 0.157645315, -0.0625164583], [-0.0233241022, -0.109830149, -0.00923281908], [-0.026593117, -0.181631967, 0.0131779043], [0.088113822, -0.128107145, 0.163457856]]> : tensor<16x3xf32>} : () -> tensor<16x3xf32>\n  %cst_15 = \"std.constant\"() {value = dense<[[-0.212393627, 0.0338570401, 0.111116007, 0.0881581306, -0.315218776, -0.363089651, -0.504790962, -0.258468091, -0.0770562738, 0.234656021, -0.582467258, -0.0820645391, -0.276296049, 0.561763823, 0.422011077, -0.405339479], [-0.649291873, 0.311162174, -0.433458596, -0.0612832792, -0.399856299, 0.241411343, 3.114550e-01, 0.289406717, 0.735421478, 0.311554313, 0.346679389, 0.133494675, -0.341120392, -0.431948125, -0.17761603, -0.13750954], [-0.19113563, 0.697484255, 0.0545513481, 0.383574545, 0.0494732298, -0.357803106, 0.169677362, 0.0336771905, -0.138652697, -0.064820908, 0.00321641751, 0.310996473, 0.460624725, 0.271490484, -3.542980e-01, -0.561261833]]> : tensor<3x16xf32>} : () -> tensor<3x16xf32>\n  %cst_16 = \"std.constant\"() {value = dense<0> : tensor<1xi32>} : () -> tensor<1xi32>\n  %cst_17 = \"std.constant\"() {value = dense<1> : tensor<1xi32>} : () -> tensor<1xi32>\n  %cst_18 = \"std.constant\"() {value = dense<[0, -1, 0]> : tensor<3xi32>} : () -> tensor<3xi32>\n  %cst_19 = \"std.constant\"() {value = dense<0> : tensor<3xi32>} : () -> tensor<3xi32>\n  %cst_20 = \"std.constant\"() {value = dense<1> : tensor<3xi32>} : () -> tensor<3xi32>\n  %0 = \"tfl.shape\"(%arg0) : (tensor<?x20x3xf32>) -> tensor<3xi32>\n  %1 = \"tfl.strided_slice\"(%0, %cst_16, %cst_17, %cst_17) {begin_mask = 0 : i32, ellipsis_mask = 0 : i32, end_mask = 0 : i32, new_axis_mask = 0 : i32, shrink_axis_mask = 1 : i32} : (tensor<3xi32>, tensor<1xi32>, tensor<1xi32>, tensor<1xi32>) -> tensor<i32>\n  %2 = \"tfl.pack\"(%1, %cst_1) {axis = 0 : i32, values_count = 2 : i32} : (tensor<i32>, tensor<i32>) -> tensor<2xi32>\n  %3 = \"tfl.fill\"(%2, %cst_0) : (tensor<2xi32>, tensor<f32>) -> tensor<?x16xf32>\n  %4 = \"tfl.unidirectional_sequence_lstm\"(%arg0, %cst_11, %cst_12, %cst_13, %cst_14, %cst_3, %cst_4, %cst_5, %cst_6, %cst_2, %cst_2, %cst_2, %cst_7, %cst_8, %cst_9, %cst_10, %cst_2, %cst_2, %3, %3, %cst_2, %cst_2, %cst_2, %cst_2) {cell_clip = 1.000000e+01 : f32, fused_activation_function = \"TANH\", proj_clip = 0.000000e+00 : f32, time_major = false} : (tensor<?x20x3xf32>, tensor<16x3xf32>, tensor<16x3xf32>, tensor<16x3xf32>, tensor<16x3xf32>, tensor<16x16xf32>, tensor<16x16xf32>, tensor<16x16xf32>, tensor<16x16xf32>, none, none, none, tensor<16xf32>, tensor<16xf32>, tensor<16xf32>, tensor<16xf32>, none, none, tensor<?x16xf32>, tensor<?x16xf32>, none, none, none, none) -> tensor<?x20x16xf32>\n  %5 = \"tfl.strided_slice\"(%4, %cst_18, %cst_19, %cst_20) {begin_mask = 5 : i32, ellipsis_mask = 0 : i32, end_mask = 5 : i32, new_axis_mask = 0 : i32, shrink_axis_mask = 2 : i32} : (tensor<?x20x16xf32>, tensor<3xi32>, tensor<3xi32>, tensor<3xi32>) -> tensor<?x16xf32>\n  %6 = \"tfl.fully_connected\"(%5, %cst_15, %cst) {fused_activation_function = \"NONE\", keep_num_dims = false, weights_format = \"DEFAULT\"} : (tensor<?x16xf32>, tensor<3x16xf32>, tensor<3xf32>) -> tensor<?x3xf32>\n  %7 = \"tfl.softmax\"(%6) {beta = 1.000000e+00 : f32} : (tensor<?x3xf32>) -> tensor<?x3xf32>\n  \"std.return\"(%7) : (tensor<?x3xf32>) -> ()\n}) {arg0 = {tf_saved_model.index_path = [\"lstm_9_input\"]}, result0 = {tf_saved_model.index_path = [\"dense_9\"]}, sym_name = \"serving_default\", tf.entry_function = {control_outputs = \"\", inputs = \"serving_default_lstm_9_input:0\", outputs = \"StatefulPartitionedCall:0\"}, tf_saved_model.exported_names = [\"serving_default\"], type = (tensor<?x20x3xf32>) -> tensor<?x3xf32>} : () -> ()\n"
          ]
        }
      ]
    },
    {
      "cell_type": "markdown",
      "metadata": {
        "id": "y_Yr4ncVxrFC"
      },
      "source": [
        "THE END"
      ]
    },
    {
      "cell_type": "code",
      "metadata": {
        "id": "WEwQbKjoXbzj"
      },
      "source": [
        "# !pip install tf-nightly\n",
        "import tensorflow.compat.v2 as tf\n",
        "tf.enable_v2_behavior()\n",
        "\n"
      ],
      "execution_count": null,
      "outputs": []
    },
    {
      "cell_type": "code",
      "metadata": {
        "id": "pFHbE3tWZtLL"
      },
      "source": [
        "run_model = tf.function(lambda x: model(x))\n",
        "# This is important, let's fix the input size.\n",
        "BATCH_SIZE = 16\n",
        "STEPS = 20\n",
        "INPUT_SIZE = 3\n",
        "concrete_func = run_model.get_concrete_function(\n",
        "    tf.TensorSpec([BATCH_SIZE, STEPS, INPUT_SIZE], model.inputs[0].dtype))\n",
        "\n",
        "# model directory.\n",
        "MODEL_DIR = \"/content/drive/My Drive/Colab Notebooks/LSTM/motion_class\"\n",
        "model.save(MODEL_DIR, save_format=\"tf\", signatures=concrete_func)\n",
        "\n",
        "converter = tf.lite.TFLiteConverter.from_saved_model(MODEL_DIR)\n",
        "tflite_model = converter.convert()"
      ],
      "execution_count": null,
      "outputs": []
    },
    {
      "cell_type": "code",
      "metadata": {
        "id": "N9A0N2jRh_T6"
      },
      "source": [
        "with open('/content/drive/My Drive/Colab Notebooks/LSTM/MotionClass.tflite', 'wb') as f:\n",
        "  f.write(tflite_model)"
      ],
      "execution_count": null,
      "outputs": []
    },
    {
      "cell_type": "code",
      "metadata": {
        "id": "GZe3Ad2waILf"
      },
      "source": [
        "TEST_CASES = 10\n",
        "\n",
        "# Run the model with TensorFlow Lite\n",
        "interpreter = tf.lite.Interpreter(model_content=tflite_model)\n",
        "interpreter.allocate_tensors()\n",
        "input_details = interpreter.get_input_details()\n",
        "output_details = interpreter.get_output_details()\n",
        "print(input_details)\n",
        "\n",
        "for i in range(TEST_CASES):\n",
        "  expected = model.predict(testx[i:i+1])\n",
        "  # print(interpreter.get_input_details()[0][\"index\"])\n",
        "  interpreter.set_tensor(input_details[0][\"index\"], np.array(testx[i:i+1, :, :],dtype= np.float32))\n",
        "  interpreter.invoke()\n",
        "  result = interpreter.get_tensor(output_details[0][\"index\"])\n",
        "\n",
        "  # Assert if the result of TFLite model is consistent with the TF model.\n",
        "  np.testing.assert_almost_equal(expected, result)\n",
        "  print(\"Done. The result of TensorFlow matches the result of TensorFlow Lite.\")\n",
        "\n",
        "  # Please note: TfLite fused Lstm kernel is stateful, so we need to reset\n",
        "  # the states.\n",
        "  # Clean up internal states.\n",
        "  interpreter.reset_all_variables()"
      ],
      "execution_count": null,
      "outputs": []
    },
    {
      "cell_type": "code",
      "metadata": {
        "id": "K8isi8TmdQNW"
      },
      "source": [
        ""
      ],
      "execution_count": null,
      "outputs": []
    }
  ]
}